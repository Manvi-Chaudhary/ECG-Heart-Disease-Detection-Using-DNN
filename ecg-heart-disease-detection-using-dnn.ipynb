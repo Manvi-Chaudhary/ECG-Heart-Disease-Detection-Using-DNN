{
 "cells": [
  {
   "cell_type": "code",
   "execution_count": 1,
   "id": "7945886f",
   "metadata": {
    "execution": {
     "iopub.execute_input": "2023-05-16T06:15:29.658522Z",
     "iopub.status.busy": "2023-05-16T06:15:29.653114Z",
     "iopub.status.idle": "2023-05-16T06:15:37.212769Z",
     "shell.execute_reply": "2023-05-16T06:15:37.213426Z",
     "shell.execute_reply.started": "2023-05-15T13:31:35.631366Z"
    },
    "papermill": {
     "duration": 7.611807,
     "end_time": "2023-05-16T06:15:37.213779",
     "exception": false,
     "start_time": "2023-05-16T06:15:29.601972",
     "status": "completed"
    },
    "tags": []
   },
   "outputs": [],
   "source": [
    "# Importing Required Packages\n",
    "import pandas as pd\n",
    "import numpy as np\n",
    "import matplotlib.pyplot as plt\n",
    "import seaborn as sns\n",
    "from keras.layers import Conv1D\n",
    "import wfdb                            # Package for loading the ecg and annotation\n",
    "from sklearn.model_selection import train_test_split\n",
    "from keras.models import Sequential\n",
    "from keras.layers import Dense, Flatten, Dropout\n",
    "from tensorflow.keras.utils import to_categorical\n",
    "from sklearn.metrics import roc_auc_score, accuracy_score, precision_score, recall_score\n",
    "import warnings\n",
    "warnings.filterwarnings(\"ignore\") \n",
    "import random\n",
    "from keras.layers import Bidirectional, LSTM\n",
    "# Random Initialization\n",
    "random.seed(42)"
   ]
  },
  {
   "cell_type": "markdown",
   "id": "98b3d095",
   "metadata": {
    "papermill": {
     "duration": 0.037371,
     "end_time": "2023-05-16T06:15:37.290316",
     "exception": false,
     "start_time": "2023-05-16T06:15:37.252945",
     "status": "completed"
    },
    "tags": []
   },
   "source": [
    "# **Importing Data**"
   ]
  },
  {
   "cell_type": "code",
   "execution_count": 2,
   "id": "002238a3",
   "metadata": {
    "execution": {
     "iopub.execute_input": "2023-05-16T06:15:37.371918Z",
     "iopub.status.busy": "2023-05-16T06:15:37.371086Z",
     "iopub.status.idle": "2023-05-16T06:15:37.374008Z",
     "shell.execute_reply": "2023-05-16T06:15:37.374623Z",
     "shell.execute_reply.started": "2023-05-15T13:22:38.869441Z"
    },
    "papermill": {
     "duration": 0.046189,
     "end_time": "2023-05-16T06:15:37.374812",
     "exception": false,
     "start_time": "2023-05-16T06:15:37.328623",
     "status": "completed"
    },
    "tags": []
   },
   "outputs": [],
   "source": [
    "# Importing Data\n",
    "data = '../input/mit-bih-arrhythmia-database/'"
   ]
  },
  {
   "cell_type": "code",
   "execution_count": 3,
   "id": "d977bb7e",
   "metadata": {
    "execution": {
     "iopub.execute_input": "2023-05-16T06:15:37.459749Z",
     "iopub.status.busy": "2023-05-16T06:15:37.458999Z",
     "iopub.status.idle": "2023-05-16T06:15:37.460800Z",
     "shell.execute_reply": "2023-05-16T06:15:37.461384Z",
     "shell.execute_reply.started": "2023-05-15T13:22:38.879522Z"
    },
    "papermill": {
     "duration": 0.048195,
     "end_time": "2023-05-16T06:15:37.461567",
     "exception": false,
     "start_time": "2023-05-16T06:15:37.413372",
     "status": "completed"
    },
    "tags": []
   },
   "outputs": [],
   "source": [
    "# List of Patients\n",
    "patients = ['100','101','102','103','104','105','106','107',\n",
    "           '108','109','111','112','113','114','115','116',\n",
    "           '117','118','119','121','122','123','124','200',\n",
    "           '201','202','203','205','207','208','209','210',\n",
    "           '212','213','214','215','217','219','220','221',\n",
    "           '222','223','228','230','231','232','233','234']"
   ]
  },
  {
   "cell_type": "markdown",
   "id": "0d633e3d",
   "metadata": {
    "papermill": {
     "duration": 0.039126,
     "end_time": "2023-05-16T06:15:37.539851",
     "exception": false,
     "start_time": "2023-05-16T06:15:37.500725",
     "status": "completed"
    },
    "tags": []
   },
   "source": [
    "#  **Analysing Data**"
   ]
  },
  {
   "cell_type": "code",
   "execution_count": 4,
   "id": "00a87b6c",
   "metadata": {
    "execution": {
     "iopub.execute_input": "2023-05-16T06:15:37.621203Z",
     "iopub.status.busy": "2023-05-16T06:15:37.620182Z",
     "iopub.status.idle": "2023-05-16T06:15:41.870406Z",
     "shell.execute_reply": "2023-05-16T06:15:41.871049Z",
     "shell.execute_reply.started": "2023-05-15T13:22:38.899285Z"
    },
    "papermill": {
     "duration": 4.292482,
     "end_time": "2023-05-16T06:15:41.871279",
     "exception": false,
     "start_time": "2023-05-16T06:15:37.578797",
     "status": "completed"
    },
    "tags": []
   },
   "outputs": [],
   "source": [
    "# Creating a Empty Dataframe\n",
    "symbols_df = pd.DataFrame()\n",
    "\n",
    "\n",
    "for pts in patients:\n",
    "    file = data + pts\n",
    "    annotation = wfdb.rdann(file, 'atr')\n",
    "    sym = annotation.symbol\n",
    "    values, counts = np.unique(sym, return_counts=True)\n",
    "    df_sub = pd.DataFrame({'symbol':values, 'Counts':counts, 'Patient Number':[pts]*len(counts)})\n",
    "    symbols_df = pd.concat([symbols_df, df_sub],axis = 0)"
   ]
  },
  {
   "cell_type": "code",
   "execution_count": 5,
   "id": "258366f7",
   "metadata": {
    "execution": {
     "iopub.execute_input": "2023-05-16T06:15:41.951773Z",
     "iopub.status.busy": "2023-05-16T06:15:41.950994Z",
     "iopub.status.idle": "2023-05-16T06:15:41.970216Z",
     "shell.execute_reply": "2023-05-16T06:15:41.970796Z",
     "shell.execute_reply.started": "2023-05-15T13:22:43.476185Z"
    },
    "papermill": {
     "duration": 0.06097,
     "end_time": "2023-05-16T06:15:41.970980",
     "exception": false,
     "start_time": "2023-05-16T06:15:41.910010",
     "status": "completed"
    },
    "scrolled": true,
    "tags": []
   },
   "outputs": [
    {
     "data": {
      "text/html": [
       "<div>\n",
       "<style scoped>\n",
       "    .dataframe tbody tr th:only-of-type {\n",
       "        vertical-align: middle;\n",
       "    }\n",
       "\n",
       "    .dataframe tbody tr th {\n",
       "        vertical-align: top;\n",
       "    }\n",
       "\n",
       "    .dataframe thead th {\n",
       "        text-align: right;\n",
       "    }\n",
       "</style>\n",
       "<table border=\"1\" class=\"dataframe\">\n",
       "  <thead>\n",
       "    <tr style=\"text-align: right;\">\n",
       "      <th></th>\n",
       "      <th>symbol</th>\n",
       "      <th>Counts</th>\n",
       "      <th>Patient Number</th>\n",
       "    </tr>\n",
       "  </thead>\n",
       "  <tbody>\n",
       "    <tr>\n",
       "      <th>0</th>\n",
       "      <td>+</td>\n",
       "      <td>1</td>\n",
       "      <td>100</td>\n",
       "    </tr>\n",
       "    <tr>\n",
       "      <th>1</th>\n",
       "      <td>A</td>\n",
       "      <td>33</td>\n",
       "      <td>100</td>\n",
       "    </tr>\n",
       "    <tr>\n",
       "      <th>2</th>\n",
       "      <td>N</td>\n",
       "      <td>2239</td>\n",
       "      <td>100</td>\n",
       "    </tr>\n",
       "    <tr>\n",
       "      <th>3</th>\n",
       "      <td>V</td>\n",
       "      <td>1</td>\n",
       "      <td>100</td>\n",
       "    </tr>\n",
       "    <tr>\n",
       "      <th>0</th>\n",
       "      <td>+</td>\n",
       "      <td>1</td>\n",
       "      <td>101</td>\n",
       "    </tr>\n",
       "    <tr>\n",
       "      <th>...</th>\n",
       "      <td>...</td>\n",
       "      <td>...</td>\n",
       "      <td>...</td>\n",
       "    </tr>\n",
       "    <tr>\n",
       "      <th>0</th>\n",
       "      <td>+</td>\n",
       "      <td>3</td>\n",
       "      <td>234</td>\n",
       "    </tr>\n",
       "    <tr>\n",
       "      <th>1</th>\n",
       "      <td>J</td>\n",
       "      <td>50</td>\n",
       "      <td>234</td>\n",
       "    </tr>\n",
       "    <tr>\n",
       "      <th>2</th>\n",
       "      <td>N</td>\n",
       "      <td>2700</td>\n",
       "      <td>234</td>\n",
       "    </tr>\n",
       "    <tr>\n",
       "      <th>3</th>\n",
       "      <td>V</td>\n",
       "      <td>3</td>\n",
       "      <td>234</td>\n",
       "    </tr>\n",
       "    <tr>\n",
       "      <th>4</th>\n",
       "      <td>~</td>\n",
       "      <td>8</td>\n",
       "      <td>234</td>\n",
       "    </tr>\n",
       "  </tbody>\n",
       "</table>\n",
       "<p>283 rows × 3 columns</p>\n",
       "</div>"
      ],
      "text/plain": [
       "   symbol  Counts Patient Number\n",
       "0       +       1            100\n",
       "1       A      33            100\n",
       "2       N    2239            100\n",
       "3       V       1            100\n",
       "0       +       1            101\n",
       "..    ...     ...            ...\n",
       "0       +       3            234\n",
       "1       J      50            234\n",
       "2       N    2700            234\n",
       "3       V       3            234\n",
       "4       ~       8            234\n",
       "\n",
       "[283 rows x 3 columns]"
      ]
     },
     "execution_count": 5,
     "metadata": {},
     "output_type": "execute_result"
    }
   ],
   "source": [
    "# Symbols Dataframe\n",
    "symbols_df"
   ]
  },
  {
   "cell_type": "code",
   "execution_count": 6,
   "id": "742eb962",
   "metadata": {
    "execution": {
     "iopub.execute_input": "2023-05-16T06:15:42.054778Z",
     "iopub.status.busy": "2023-05-16T06:15:42.053732Z",
     "iopub.status.idle": "2023-05-16T06:15:42.065254Z",
     "shell.execute_reply": "2023-05-16T06:15:42.065842Z",
     "shell.execute_reply.started": "2023-05-15T13:22:43.501945Z"
    },
    "papermill": {
     "duration": 0.055685,
     "end_time": "2023-05-16T06:15:42.066038",
     "exception": false,
     "start_time": "2023-05-16T06:15:42.010353",
     "status": "completed"
    },
    "tags": []
   },
   "outputs": [
    {
     "data": {
      "text/plain": [
       "symbol\n",
       "N    75052\n",
       "L     8075\n",
       "R     7259\n",
       "V     7130\n",
       "/     7028\n",
       "A     2546\n",
       "+     1291\n",
       "f      982\n",
       "F      803\n",
       "~      616\n",
       "!      472\n",
       "\"      437\n",
       "j      229\n",
       "x      193\n",
       "a      150\n",
       "|      132\n",
       "E      106\n",
       "J       83\n",
       "Q       33\n",
       "e       16\n",
       "[        6\n",
       "]        6\n",
       "S        2\n",
       "Name: Counts, dtype: int64"
      ]
     },
     "execution_count": 6,
     "metadata": {},
     "output_type": "execute_result"
    }
   ],
   "source": [
    "# Value Counts of Different symbols in data\n",
    "symbols_df.groupby('symbol').Counts.sum().sort_values(ascending = False)"
   ]
  },
  {
   "cell_type": "markdown",
   "id": "51cf1a9f",
   "metadata": {
    "papermill": {
     "duration": 0.038968,
     "end_time": "2023-05-16T06:15:42.145081",
     "exception": false,
     "start_time": "2023-05-16T06:15:42.106113",
     "status": "completed"
    },
    "tags": []
   },
   "source": [
    "# **Data Transformation**"
   ]
  },
  {
   "cell_type": "code",
   "execution_count": 7,
   "id": "51174247",
   "metadata": {
    "execution": {
     "iopub.execute_input": "2023-05-16T06:15:42.229014Z",
     "iopub.status.busy": "2023-05-16T06:15:42.227960Z",
     "iopub.status.idle": "2023-05-16T06:15:42.233736Z",
     "shell.execute_reply": "2023-05-16T06:15:42.234283Z",
     "shell.execute_reply.started": "2023-05-15T13:22:43.517536Z"
    },
    "papermill": {
     "duration": 0.04948,
     "end_time": "2023-05-16T06:15:42.234475",
     "exception": false,
     "start_time": "2023-05-16T06:15:42.184995",
     "status": "completed"
    },
    "tags": []
   },
   "outputs": [],
   "source": [
    "# Non Beat Symbols\n",
    "nonbeat = ['[','!',']','x','(',')','p','t','u','`',\n",
    "           '\\'','^','|','~','+','s','T','*','D','=','\"','@','Q','?']\n",
    "\n",
    "# Abnormal Beat Symbols\n",
    "abnormal = ['L','R','V','/','A','f','F','j','a','E','J','e','S']\n",
    "\n",
    "# Normal Beat Symbols\n",
    "normal = ['N']"
   ]
  },
  {
   "cell_type": "code",
   "execution_count": 8,
   "id": "04772280",
   "metadata": {
    "execution": {
     "iopub.execute_input": "2023-05-16T06:15:42.318454Z",
     "iopub.status.busy": "2023-05-16T06:15:42.317428Z",
     "iopub.status.idle": "2023-05-16T06:15:42.324681Z",
     "shell.execute_reply": "2023-05-16T06:15:42.325468Z",
     "shell.execute_reply.started": "2023-05-15T13:22:43.527217Z"
    },
    "papermill": {
     "duration": 0.050645,
     "end_time": "2023-05-16T06:15:42.325663",
     "exception": false,
     "start_time": "2023-05-16T06:15:42.275018",
     "status": "completed"
    },
    "tags": []
   },
   "outputs": [],
   "source": [
    "# Classifying normal, abnormal or nonbeat\n",
    "symbols_df['category'] = -1\n",
    "symbols_df.loc[symbols_df.symbol == 'N','category'] = 0\n",
    "symbols_df.loc[symbols_df.symbol.isin(abnormal), 'category'] = 1"
   ]
  },
  {
   "cell_type": "code",
   "execution_count": 9,
   "id": "8ed5e031",
   "metadata": {
    "execution": {
     "iopub.execute_input": "2023-05-16T06:15:42.409050Z",
     "iopub.status.busy": "2023-05-16T06:15:42.407970Z",
     "iopub.status.idle": "2023-05-16T06:15:42.417102Z",
     "shell.execute_reply": "2023-05-16T06:15:42.416526Z",
     "shell.execute_reply.started": "2023-05-15T13:22:43.548817Z"
    },
    "papermill": {
     "duration": 0.051547,
     "end_time": "2023-05-16T06:15:42.417289",
     "exception": false,
     "start_time": "2023-05-16T06:15:42.365742",
     "status": "completed"
    },
    "tags": []
   },
   "outputs": [
    {
     "data": {
      "text/plain": [
       "category\n",
       "-1     3186\n",
       " 0    75052\n",
       " 1    34409\n",
       "Name: Counts, dtype: int64"
      ]
     },
     "execution_count": 9,
     "metadata": {},
     "output_type": "execute_result"
    }
   ],
   "source": [
    "# Value counts of different categories\n",
    "symbols_df.groupby('category').Counts.sum()"
   ]
  },
  {
   "cell_type": "code",
   "execution_count": 10,
   "id": "733386b4",
   "metadata": {
    "execution": {
     "iopub.execute_input": "2023-05-16T06:15:42.510970Z",
     "iopub.status.busy": "2023-05-16T06:15:42.509974Z",
     "iopub.status.idle": "2023-05-16T06:15:42.513498Z",
     "shell.execute_reply": "2023-05-16T06:15:42.514047Z",
     "shell.execute_reply.started": "2023-05-15T13:37:32.016701Z"
    },
    "papermill": {
     "duration": 0.056821,
     "end_time": "2023-05-16T06:15:42.514252",
     "exception": false,
     "start_time": "2023-05-16T06:15:42.457431",
     "status": "completed"
    },
    "tags": []
   },
   "outputs": [
    {
     "name": "stdout",
     "output_type": "stream",
     "text": [
      "<class 'pandas.core.frame.DataFrame'>\n",
      "Int64Index: 283 entries, 0 to 4\n",
      "Data columns (total 4 columns):\n",
      " #   Column          Non-Null Count  Dtype \n",
      "---  ------          --------------  ----- \n",
      " 0   symbol          283 non-null    object\n",
      " 1   Counts          283 non-null    int64 \n",
      " 2   Patient Number  283 non-null    object\n",
      " 3   category        283 non-null    int64 \n",
      "dtypes: int64(2), object(2)\n",
      "memory usage: 11.1+ KB\n"
     ]
    }
   ],
   "source": [
    "symbols_df.info()"
   ]
  },
  {
   "cell_type": "code",
   "execution_count": 11,
   "id": "79d1a2e5",
   "metadata": {
    "execution": {
     "iopub.execute_input": "2023-05-16T06:15:42.600514Z",
     "iopub.status.busy": "2023-05-16T06:15:42.599774Z",
     "iopub.status.idle": "2023-05-16T06:15:42.603603Z",
     "shell.execute_reply": "2023-05-16T06:15:42.602942Z",
     "shell.execute_reply.started": "2023-05-15T13:22:43.570629Z"
    },
    "papermill": {
     "duration": 0.049747,
     "end_time": "2023-05-16T06:15:42.603753",
     "exception": false,
     "start_time": "2023-05-16T06:15:42.554006",
     "status": "completed"
    },
    "tags": []
   },
   "outputs": [],
   "source": [
    "def load_ecg(file):    \n",
    "    \n",
    "    record = wfdb.rdrecord(file)\n",
    "    annotation = wfdb.rdann(file, 'atr')\n",
    "    p_signal = record.p_signal\n",
    "    atr_sym = annotation.symbol\n",
    "    atr_sample = annotation.sample\n",
    "    \n",
    "    return p_signal, atr_sym, atr_sample"
   ]
  },
  {
   "cell_type": "code",
   "execution_count": 12,
   "id": "05f2755b",
   "metadata": {
    "execution": {
     "iopub.execute_input": "2023-05-16T06:15:42.688646Z",
     "iopub.status.busy": "2023-05-16T06:15:42.687933Z",
     "iopub.status.idle": "2023-05-16T06:15:42.691461Z",
     "shell.execute_reply": "2023-05-16T06:15:42.690795Z",
     "shell.execute_reply.started": "2023-05-15T13:22:43.580101Z"
    },
    "papermill": {
     "duration": 0.047807,
     "end_time": "2023-05-16T06:15:42.691619",
     "exception": false,
     "start_time": "2023-05-16T06:15:42.643812",
     "status": "completed"
    },
    "tags": []
   },
   "outputs": [],
   "source": [
    "# Accessing the ecg points for \n",
    "file = data + patients[8]"
   ]
  },
  {
   "cell_type": "code",
   "execution_count": 13,
   "id": "b0dd2f29",
   "metadata": {
    "execution": {
     "iopub.execute_input": "2023-05-16T06:15:42.777781Z",
     "iopub.status.busy": "2023-05-16T06:15:42.776779Z",
     "iopub.status.idle": "2023-05-16T06:15:42.909859Z",
     "shell.execute_reply": "2023-05-16T06:15:42.910507Z",
     "shell.execute_reply.started": "2023-05-15T13:22:43.593626Z"
    },
    "papermill": {
     "duration": 0.177681,
     "end_time": "2023-05-16T06:15:42.910807",
     "exception": false,
     "start_time": "2023-05-16T06:15:42.733126",
     "status": "completed"
    },
    "tags": []
   },
   "outputs": [],
   "source": [
    "# Accessing the load ECG function and getting annotation.symbol, annotation.sample, signals\n",
    "p_signal, atr_sym, atr_sample = load_ecg(file)"
   ]
  },
  {
   "cell_type": "code",
   "execution_count": 14,
   "id": "bb4acb3e",
   "metadata": {
    "execution": {
     "iopub.execute_input": "2023-05-16T06:15:42.997346Z",
     "iopub.status.busy": "2023-05-16T06:15:42.996213Z",
     "iopub.status.idle": "2023-05-16T06:15:43.001736Z",
     "shell.execute_reply": "2023-05-16T06:15:43.000995Z",
     "shell.execute_reply.started": "2023-05-15T13:22:43.756913Z"
    },
    "papermill": {
     "duration": 0.050698,
     "end_time": "2023-05-16T06:15:43.001888",
     "exception": false,
     "start_time": "2023-05-16T06:15:42.951190",
     "status": "completed"
    },
    "tags": []
   },
   "outputs": [
    {
     "name": "stdout",
     "output_type": "stream",
     "text": [
      "+ 3\n",
      "J 50\n",
      "N 2700\n",
      "V 3\n",
      "~ 8\n"
     ]
    }
   ],
   "source": [
    "# Analysing annotations value counts for a single record\n",
    "values, counts = np.unique(sym, return_counts=True)\n",
    "for v,c in zip(values, counts):\n",
    "    print(v,c)"
   ]
  },
  {
   "cell_type": "markdown",
   "id": "409ea6a6",
   "metadata": {
    "papermill": {
     "duration": 0.039895,
     "end_time": "2023-05-16T06:15:43.081838",
     "exception": false,
     "start_time": "2023-05-16T06:15:43.041943",
     "status": "completed"
    },
    "tags": []
   },
   "source": [
    "> # **Data Visualization**"
   ]
  },
  {
   "cell_type": "code",
   "execution_count": 15,
   "id": "74c0f16c",
   "metadata": {
    "execution": {
     "iopub.execute_input": "2023-05-16T06:15:43.170613Z",
     "iopub.status.busy": "2023-05-16T06:15:43.169658Z",
     "iopub.status.idle": "2023-05-16T06:15:43.173948Z",
     "shell.execute_reply": "2023-05-16T06:15:43.173340Z",
     "shell.execute_reply.started": "2023-05-15T13:22:43.768991Z"
    },
    "papermill": {
     "duration": 0.052144,
     "end_time": "2023-05-16T06:15:43.174103",
     "exception": false,
     "start_time": "2023-05-16T06:15:43.121959",
     "status": "completed"
    },
    "tags": []
   },
   "outputs": [
    {
     "data": {
      "text/plain": [
       "[4105, 10876, 83824, 107330, 180041, 180621, 193553, 205731, 221206, 263192]"
      ]
     },
     "execution_count": 15,
     "metadata": {},
     "output_type": "execute_result"
    }
   ],
   "source": [
    "# get abnormal beat index\n",
    "ab_index = [b for a,b in zip(atr_sym,atr_sample) if a in abnormal][:10]\n",
    "ab_index"
   ]
  },
  {
   "cell_type": "code",
   "execution_count": 16,
   "id": "7c6807a8",
   "metadata": {
    "execution": {
     "iopub.execute_input": "2023-05-16T06:15:43.266439Z",
     "iopub.status.busy": "2023-05-16T06:15:43.265622Z",
     "iopub.status.idle": "2023-05-16T06:15:43.679546Z",
     "shell.execute_reply": "2023-05-16T06:15:43.680119Z",
     "shell.execute_reply.started": "2023-05-15T13:22:43.782520Z"
    },
    "papermill": {
     "duration": 0.465411,
     "end_time": "2023-05-16T06:15:43.680327",
     "exception": false,
     "start_time": "2023-05-16T06:15:43.214916",
     "status": "completed"
    },
    "tags": []
   },
   "outputs": [
    {
     "data": {
      "image/png": "[encoded data removed]",
      "text/plain": [
       "<Figure size 1440x576 with 1 Axes>"
      ]
     },
     "metadata": {
      "needs_background": "light"
     },
     "output_type": "display_data"
    }
   ],
   "source": [
    "# Generating evenly spaced values\n",
    "x = np.arange(len(p_signal))\n",
    "\n",
    "left = ab_index[5]-20000\n",
    "right = ab_index[5]+20000\n",
    "\n",
    "plt.figure(figsize=(20,8))\n",
    "plt.plot(x[left:right],p_signal[left:right,0],'-',label='ecg',)\n",
    "plt.plot(x[atr_sample],p_signal[atr_sample,0],'go',label ='normal')\n",
    "plt.plot(x[ab_index],p_signal[ab_index,0],'ro',label='abnormal')\n",
    "\n",
    "plt.xlim(left,right)\n",
    "plt.ylim(p_signal[left:right].min()-0.05,p_signal[left:right,0].max()+0.05)\n",
    "plt.xlabel('time index')\n",
    "plt.ylabel('ECG signal')\n",
    "plt.legend(bbox_to_anchor = (1.04,1), loc = 'upper left')\n",
    "plt.show()"
   ]
  },
  {
   "cell_type": "code",
   "execution_count": 17,
   "id": "265e7a5e",
   "metadata": {
    "execution": {
     "iopub.execute_input": "2023-05-16T06:15:43.795242Z",
     "iopub.status.busy": "2023-05-16T06:15:43.794400Z",
     "iopub.status.idle": "2023-05-16T06:15:45.133990Z",
     "shell.execute_reply": "2023-05-16T06:15:45.133346Z",
     "shell.execute_reply.started": "2023-05-15T13:49:19.508620Z"
    },
    "papermill": {
     "duration": 1.409873,
     "end_time": "2023-05-16T06:15:45.134157",
     "exception": false,
     "start_time": "2023-05-16T06:15:43.724284",
     "status": "completed"
    },
    "tags": []
   },
   "outputs": [
    {
     "data": {
      "text/plain": [
       "<seaborn.axisgrid.PairGrid at 0x79757eb62810>"
      ]
     },
     "execution_count": 17,
     "metadata": {},
     "output_type": "execute_result"
    },
    {
     "data": {
      "image/png": "[encoded data removed]",
      "text/plain": [
       "<Figure size 360x360 with 6 Axes>"
      ]
     },
     "metadata": {
      "needs_background": "light"
     },
     "output_type": "display_data"
    }
   ],
   "source": [
    "columns=[\"symbol\",\"Counts\",\"Patient Number\",\"category\"]\n",
    "s2_df=symbols_df[~symbols_df.index.duplicated()]\n",
    "\n",
    "sns.pairplot(s2_df[columns])"
   ]
  },
  {
   "cell_type": "code",
   "execution_count": 18,
   "id": "56a221a4",
   "metadata": {
    "execution": {
     "iopub.execute_input": "2023-05-16T06:15:45.233613Z",
     "iopub.status.busy": "2023-05-16T06:15:45.232742Z",
     "iopub.status.idle": "2023-05-16T06:15:45.840197Z",
     "shell.execute_reply": "2023-05-16T06:15:45.839579Z",
     "shell.execute_reply.started": "2023-05-15T13:53:32.128476Z"
    },
    "papermill": {
     "duration": 0.660855,
     "end_time": "2023-05-16T06:15:45.840349",
     "exception": false,
     "start_time": "2023-05-16T06:15:45.179494",
     "status": "completed"
    },
    "tags": []
   },
   "outputs": [
    {
     "data": {
      "text/plain": [
       "<Figure size 720x576 with 0 Axes>"
      ]
     },
     "metadata": {},
     "output_type": "display_data"
    },
    {
     "data": {
      "image/png": "[encoded data removed]",
      "text/plain": [
       "<Figure size 432x432 with 3 Axes>"
      ]
     },
     "metadata": {
      "needs_background": "light"
     },
     "output_type": "display_data"
    }
   ],
   "source": [
    "plt.figure(figsize=(10,8))\n",
    "sns.jointplot(x=s2_df[\"Counts\"], y=s2_df[\"category\"], kind=\"kde\")\n",
    "plt.show()"
   ]
  },
  {
   "cell_type": "markdown",
   "id": "194c4d6b",
   "metadata": {
    "papermill": {
     "duration": 0.047642,
     "end_time": "2023-05-16T06:15:45.935862",
     "exception": false,
     "start_time": "2023-05-16T06:15:45.888220",
     "status": "completed"
    },
    "tags": []
   },
   "source": [
    "# **Data Preprocessing**"
   ]
  },
  {
   "cell_type": "code",
   "execution_count": 19,
   "id": "21071f45",
   "metadata": {
    "execution": {
     "iopub.execute_input": "2023-05-16T06:15:46.046501Z",
     "iopub.status.busy": "2023-05-16T06:15:46.045352Z",
     "iopub.status.idle": "2023-05-16T06:15:46.051182Z",
     "shell.execute_reply": "2023-05-16T06:15:46.051915Z",
     "shell.execute_reply.started": "2023-05-15T13:22:44.220944Z"
    },
    "papermill": {
     "duration": 0.068202,
     "end_time": "2023-05-16T06:15:46.052100",
     "exception": false,
     "start_time": "2023-05-16T06:15:45.983898",
     "status": "completed"
    },
    "tags": []
   },
   "outputs": [],
   "source": [
    "def make_dataset(pts, num_sec, fs, abnormal):\n",
    "    # function for making dataset ignoring non-beats\n",
    "    \n",
    "    num_cols = 2*num_sec * fs\n",
    "    X_all = np.zeros((1,num_cols))\n",
    "    Y_all = np.zeros((1,1))\n",
    "    sym_all = []\n",
    "    \n",
    "    # list to keep track of number of beats across patients\n",
    "    max_rows = []\n",
    "    \n",
    "    for pt in pts:\n",
    "        file = data + pt\n",
    "        \n",
    "        p_signal, atr_sym, atr_sample = load_ecg(file)\n",
    "        \n",
    "       \n",
    "        p_signal = p_signal[:,0]\n",
    "        \n",
    "        \n",
    "        df_ann = pd.DataFrame({'atr_sym':atr_sym,\n",
    "                              'atr_sample':atr_sample})\n",
    "        df_ann = df_ann.loc[df_ann.atr_sym.isin(abnormal + ['N'])]\n",
    "        \n",
    "        X,Y,sym = build_XY(p_signal,df_ann, num_cols, abnormal)\n",
    "        sym_all = sym_all+sym\n",
    "        max_rows.append(X.shape[0])\n",
    "        X_all = np.append(X_all,X,axis = 0)\n",
    "        Y_all = np.append(Y_all,Y,axis = 0)\n",
    "        \n",
    "    \n",
    "    X_all = X_all[1:,:]\n",
    "    Y_all = Y_all[1:,:]\n",
    "\n",
    "    return X_all, Y_all, sym_all\n"
   ]
  },
  {
   "cell_type": "code",
   "execution_count": 20,
   "id": "dd1199bb",
   "metadata": {
    "execution": {
     "iopub.execute_input": "2023-05-16T06:15:46.152643Z",
     "iopub.status.busy": "2023-05-16T06:15:46.151859Z",
     "iopub.status.idle": "2023-05-16T06:15:46.160505Z",
     "shell.execute_reply": "2023-05-16T06:15:46.161201Z",
     "shell.execute_reply.started": "2023-05-15T13:22:44.234501Z"
    },
    "papermill": {
     "duration": 0.061283,
     "end_time": "2023-05-16T06:15:46.161400",
     "exception": false,
     "start_time": "2023-05-16T06:15:46.100117",
     "status": "completed"
    },
    "tags": []
   },
   "outputs": [],
   "source": [
    "def build_XY(p_signal, df_ann, num_cols, abnormal):\n",
    "    # this function builds the X,Y matrices for each beat\n",
    "    # it also returns the original symbols for Y\n",
    "    \n",
    "    num_rows = len(df_ann)\n",
    "\n",
    "    X = np.zeros((num_rows, num_cols))\n",
    "    Y = np.zeros((num_rows,1))\n",
    "    sym = []\n",
    "    \n",
    "    # keep track of rows\n",
    "    max_row = 0\n",
    "\n",
    "    for atr_sample, atr_sym in zip(df_ann.atr_sample.values,df_ann.atr_sym.values):\n",
    "\n",
    "        left = max([0,(atr_sample - num_sec*fs) ])\n",
    "        right = min([len(p_signal),(atr_sample + num_sec*fs) ])\n",
    "        x = p_signal[left: right]\n",
    "        if len(x) == num_cols:\n",
    "            X[max_row,:] = x\n",
    "            Y[max_row,:] = int(atr_sym in abnormal)\n",
    "            sym.append(atr_sym)\n",
    "            max_row += 1\n",
    "    X = X[:max_row,:]\n",
    "    Y = Y[:max_row,:]\n",
    "    return X,Y,sym"
   ]
  },
  {
   "cell_type": "code",
   "execution_count": 21,
   "id": "7c54b205",
   "metadata": {
    "execution": {
     "iopub.execute_input": "2023-05-16T06:15:46.266579Z",
     "iopub.status.busy": "2023-05-16T06:15:46.265581Z",
     "iopub.status.idle": "2023-05-16T06:15:46.268423Z",
     "shell.execute_reply": "2023-05-16T06:15:46.267806Z",
     "shell.execute_reply.started": "2023-05-15T13:22:44.251417Z"
    },
    "papermill": {
     "duration": 0.059042,
     "end_time": "2023-05-16T06:15:46.268580",
     "exception": false,
     "start_time": "2023-05-16T06:15:46.209538",
     "status": "completed"
    },
    "tags": []
   },
   "outputs": [],
   "source": [
    "# Parameter Values\n",
    "num_sec = 3\n",
    "fs = 360"
   ]
  },
  {
   "cell_type": "code",
   "execution_count": 22,
   "id": "dd56908c",
   "metadata": {
    "execution": {
     "iopub.execute_input": "2023-05-16T06:15:46.368741Z",
     "iopub.status.busy": "2023-05-16T06:15:46.367999Z",
     "iopub.status.idle": "2023-05-16T06:16:12.297267Z",
     "shell.execute_reply": "2023-05-16T06:16:12.296593Z",
     "shell.execute_reply.started": "2023-05-15T13:22:44.264348Z"
    },
    "papermill": {
     "duration": 25.980704,
     "end_time": "2023-05-16T06:16:12.297456",
     "exception": false,
     "start_time": "2023-05-16T06:15:46.316752",
     "status": "completed"
    },
    "tags": []
   },
   "outputs": [],
   "source": [
    "# Accessing the fuction and creating a dataset with ECG digital Points\n",
    "X_all, Y_all, sym_all = make_dataset(patients, num_sec, fs, abnormal)"
   ]
  },
  {
   "cell_type": "code",
   "execution_count": 23,
   "id": "aab63be0",
   "metadata": {
    "execution": {
     "iopub.execute_input": "2023-05-16T06:16:12.407729Z",
     "iopub.status.busy": "2023-05-16T06:16:12.406975Z",
     "iopub.status.idle": "2023-05-16T06:16:12.973976Z",
     "shell.execute_reply": "2023-05-16T06:16:12.973353Z",
     "shell.execute_reply.started": "2023-05-15T13:23:15.607950Z"
    },
    "papermill": {
     "duration": 0.622061,
     "end_time": "2023-05-16T06:16:12.974169",
     "exception": false,
     "start_time": "2023-05-16T06:16:12.352108",
     "status": "completed"
    },
    "tags": []
   },
   "outputs": [],
   "source": [
    "# Train Test Split\n",
    "X_train, X_valid, y_train, y_valid = train_test_split(X_all, Y_all, test_size=0.33, random_state=42)"
   ]
  },
  {
   "cell_type": "markdown",
   "id": "fa480fbf",
   "metadata": {
    "papermill": {
     "duration": 0.048527,
     "end_time": "2023-05-16T06:16:13.070471",
     "exception": false,
     "start_time": "2023-05-16T06:16:13.021944",
     "status": "completed"
    },
    "tags": []
   },
   "source": [
    "# **Training Model - DNN(Deep Neural Network)**"
   ]
  },
  {
   "cell_type": "code",
   "execution_count": 24,
   "id": "a105749b",
   "metadata": {
    "execution": {
     "iopub.execute_input": "2023-05-16T06:16:13.170912Z",
     "iopub.status.busy": "2023-05-16T06:16:13.169858Z",
     "iopub.status.idle": "2023-05-16T06:16:13.288917Z",
     "shell.execute_reply": "2023-05-16T06:16:13.288123Z",
     "shell.execute_reply.started": "2023-05-15T13:23:16.227208Z"
    },
    "papermill": {
     "duration": 0.170576,
     "end_time": "2023-05-16T06:16:13.289071",
     "exception": false,
     "start_time": "2023-05-16T06:16:13.118495",
     "status": "completed"
    },
    "tags": []
   },
   "outputs": [
    {
     "name": "stderr",
     "output_type": "stream",
     "text": [
      "\n",
      "User settings:\n",
      "\n",
      "   KMP_AFFINITY=granularity=fine,verbose,compact,1,0\n",
      "   KMP_BLOCKTIME=0\n",
      "   KMP_DUPLICATE_LIB_OK=True\n",
      "   KMP_INIT_AT_FORK=FALSE\n",
      "   KMP_SETTINGS=1\n",
      "   KMP_WARNINGS=0\n",
      "\n",
      "Effective settings:\n",
      "\n",
      "   KMP_ABORT_DELAY=0\n",
      "   KMP_ADAPTIVE_LOCK_PROPS='1,1024'\n",
      "   KMP_ALIGN_ALLOC=64\n",
      "   KMP_ALL_THREADPRIVATE=128\n",
      "   KMP_ATOMIC_MODE=2\n",
      "   KMP_BLOCKTIME=0\n",
      "   KMP_CPUINFO_FILE: value is not defined\n",
      "   KMP_DETERMINISTIC_REDUCTION=false\n",
      "   KMP_DEVICE_THREAD_LIMIT=2147483647\n",
      "   KMP_DISP_NUM_BUFFERS=7\n",
      "   KMP_DUPLICATE_LIB_OK=true\n",
      "   KMP_ENABLE_TASK_THROTTLING=true\n",
      "   KMP_FORCE_REDUCTION: value is not defined\n",
      "   KMP_FOREIGN_THREADS_THREADPRIVATE=true\n",
      "   KMP_FORKJOIN_BARRIER='2,2'\n",
      "   KMP_FORKJOIN_BARRIER_PATTERN='hyper,hyper'\n",
      "   KMP_GTID_MODE=3\n",
      "   KMP_HANDLE_SIGNALS=false\n",
      "   KMP_HOT_TEAMS_MAX_LEVEL=1\n",
      "   KMP_HOT_TEAMS_MODE=0\n",
      "   KMP_INIT_AT_FORK=true\n",
      "   KMP_LIBRARY=throughput\n",
      "   KMP_LOCK_KIND=queuing\n",
      "   KMP_MALLOC_POOL_INCR=1M\n",
      "   KMP_NUM_LOCKS_IN_BLOCK=1\n",
      "   KMP_PLAIN_BARRIER='2,2'\n",
      "   KMP_PLAIN_BARRIER_PATTERN='hyper,hyper'\n",
      "   KMP_REDUCTION_BARRIER='1,1'\n",
      "   KMP_REDUCTION_BARRIER_PATTERN='hyper,hyper'\n",
      "   KMP_SCHEDULE='static,balanced;guided,iterative'\n",
      "   KMP_SETTINGS=true\n",
      "   KMP_SPIN_BACKOFF_PARAMS='4096,100'\n",
      "   KMP_STACKOFFSET=64\n",
      "   KMP_STACKPAD=0\n",
      "   KMP_STACKSIZE=8M\n",
      "   KMP_STORAGE_MAP=false\n",
      "   KMP_TASKING=2\n",
      "   KMP_TASKLOOP_MIN_TASKS=0\n",
      "   KMP_TASK_STEALING_CONSTRAINT=1\n",
      "   KMP_TEAMS_THREAD_LIMIT=4\n",
      "   KMP_TOPOLOGY_METHOD=all\n",
      "   KMP_USE_YIELD=1\n",
      "   KMP_VERSION=false\n",
      "   KMP_WARNINGS=false\n",
      "   OMP_AFFINITY_FORMAT='OMP: pid %P tid %i thread %n bound to OS proc set {%A}'\n",
      "   OMP_ALLOCATOR=omp_default_mem_alloc\n",
      "   OMP_CANCELLATION=false\n",
      "   OMP_DEFAULT_DEVICE=0\n",
      "   OMP_DISPLAY_AFFINITY=false\n",
      "   OMP_DISPLAY_ENV=false\n",
      "   OMP_DYNAMIC=false\n",
      "   OMP_MAX_ACTIVE_LEVELS=1\n",
      "   OMP_MAX_TASK_PRIORITY=0\n",
      "   OMP_NESTED: deprecated; max-active-levels-var=1\n",
      "   OMP_NUM_THREADS: value is not defined\n",
      "   OMP_PLACES: value is not defined\n",
      "   OMP_PROC_BIND='intel'\n",
      "   OMP_SCHEDULE='static'\n",
      "   OMP_STACKSIZE=8M\n",
      "   OMP_TARGET_OFFLOAD=DEFAULT\n",
      "   OMP_THREAD_LIMIT=2147483647\n",
      "   OMP_WAIT_POLICY=PASSIVE\n",
      "   KMP_AFFINITY='verbose,warnings,respect,granularity=fine,compact,1,0'\n",
      "\n"
     ]
    }
   ],
   "source": [
    "# Relu for activation function and drop out for regularization\n",
    "model = Sequential()\n",
    "model.add(Dense(32, activation = 'relu', input_dim = X_train.shape[1]))\n",
    "model.add(Dropout(rate = 0.25))\n",
    "model.add(Dense(1, activation = 'sigmoid'))"
   ]
  },
  {
   "cell_type": "code",
   "execution_count": 25,
   "id": "fac4bf01",
   "metadata": {
    "execution": {
     "iopub.execute_input": "2023-05-16T06:16:13.453511Z",
     "iopub.status.busy": "2023-05-16T06:16:13.452401Z",
     "iopub.status.idle": "2023-05-16T06:16:13.465143Z",
     "shell.execute_reply": "2023-05-16T06:16:13.464464Z",
     "shell.execute_reply.started": "2023-05-15T13:23:16.362487Z"
    },
    "papermill": {
     "duration": 0.127491,
     "end_time": "2023-05-16T06:16:13.465303",
     "exception": false,
     "start_time": "2023-05-16T06:16:13.337812",
     "status": "completed"
    },
    "tags": []
   },
   "outputs": [],
   "source": [
    "# Compiling model with  binary crossentropy and the adam optimizer\n",
    "model.compile(loss = 'binary_crossentropy',\n",
    "                optimizer = 'adam',\n",
    "                metrics = ['accuracy'])"
   ]
  },
  {
   "cell_type": "code",
   "execution_count": 26,
   "id": "1f1fa8af",
   "metadata": {
    "execution": {
     "iopub.execute_input": "2023-05-16T06:16:13.570358Z",
     "iopub.status.busy": "2023-05-16T06:16:13.569301Z",
     "iopub.status.idle": "2023-05-16T06:17:02.296321Z",
     "shell.execute_reply": "2023-05-16T06:17:02.295683Z",
     "shell.execute_reply.started": "2023-05-15T13:23:16.382894Z"
    },
    "papermill": {
     "duration": 48.78261,
     "end_time": "2023-05-16T06:17:02.296495",
     "exception": false,
     "start_time": "2023-05-16T06:16:13.513885",
     "status": "completed"
    },
    "tags": []
   },
   "outputs": [
    {
     "name": "stdout",
     "output_type": "stream",
     "text": [
      "Epoch 1/10\n",
      "2285/2285 [==============================] - 5s 2ms/step - loss: 0.2387 - accuracy: 0.9099\n",
      "Epoch 2/10\n",
      "2285/2285 [==============================] - 5s 2ms/step - loss: 0.1612 - accuracy: 0.9484\n",
      "Epoch 3/10\n",
      "2285/2285 [==============================] - 6s 2ms/step - loss: 0.1458 - accuracy: 0.9550\n",
      "Epoch 4/10\n",
      "2285/2285 [==============================] - 5s 2ms/step - loss: 0.1297 - accuracy: 0.9597\n",
      "Epoch 5/10\n",
      "2285/2285 [==============================] - 5s 2ms/step - loss: 0.1234 - accuracy: 0.9621\n",
      "Epoch 6/10\n",
      "2285/2285 [==============================] - 4s 2ms/step - loss: 0.1211 - accuracy: 0.9629\n",
      "Epoch 7/10\n",
      "2285/2285 [==============================] - 5s 2ms/step - loss: 0.1122 - accuracy: 0.9660\n",
      "Epoch 8/10\n",
      "2285/2285 [==============================] - 5s 2ms/step - loss: 0.1082 - accuracy: 0.9670\n",
      "Epoch 9/10\n",
      "2285/2285 [==============================] - 4s 2ms/step - loss: 0.1063 - accuracy: 0.9676\n",
      "Epoch 10/10\n",
      "2285/2285 [==============================] - 5s 2ms/step - loss: 0.1034 - accuracy: 0.9687\n"
     ]
    },
    {
     "data": {
      "text/plain": [
       "<keras.callbacks.History at 0x79756fafa990>"
      ]
     },
     "execution_count": 26,
     "metadata": {},
     "output_type": "execute_result"
    }
   ],
   "source": [
    "# Fitting the model\n",
    "model.fit(X_train, y_train, batch_size = 32, epochs= 10, verbose = 1)"
   ]
  },
  {
   "cell_type": "markdown",
   "id": "1da95645",
   "metadata": {
    "papermill": {
     "duration": 0.400162,
     "end_time": "2023-05-16T06:17:03.099610",
     "exception": false,
     "start_time": "2023-05-16T06:17:02.699448",
     "status": "completed"
    },
    "tags": []
   },
   "source": [
    "# **Evaluation Metrices**\n",
    "\n"
   ]
  },
  {
   "cell_type": "code",
   "execution_count": 27,
   "id": "c4e7edfd",
   "metadata": {
    "execution": {
     "iopub.execute_input": "2023-05-16T06:17:03.907337Z",
     "iopub.status.busy": "2023-05-16T06:17:03.906591Z",
     "iopub.status.idle": "2023-05-16T06:17:03.908555Z",
     "shell.execute_reply": "2023-05-16T06:17:03.909115Z",
     "shell.execute_reply.started": "2023-05-15T13:24:23.159015Z"
    },
    "papermill": {
     "duration": 0.406029,
     "end_time": "2023-05-16T06:17:03.909311",
     "exception": false,
     "start_time": "2023-05-16T06:17:03.503282",
     "status": "completed"
    },
    "tags": []
   },
   "outputs": [],
   "source": [
    "# Evaluation Metrics\n",
    "def print_report(y_actual, y_pred, thresh):\n",
    "    # Function to print evaluation metrics\n",
    "    auc = roc_auc_score(y_actual, y_pred)\n",
    "    accuracy = accuracy_score(y_actual, (y_pred > thresh))\n",
    "    precision = precision_score(y_actual, (y_pred > thresh))\n",
    "    print('AUC:%.3f'%auc)\n",
    "    print('Accuracy:%.3f'%accuracy)\n",
    "    print('Precision:%.3f'%precision)\n",
    "    print(' ')\n",
    "    return auc, accuracy, precision"
   ]
  },
  {
   "cell_type": "code",
   "execution_count": 28,
   "id": "c911296d",
   "metadata": {
    "execution": {
     "iopub.execute_input": "2023-05-16T06:17:04.713328Z",
     "iopub.status.busy": "2023-05-16T06:17:04.712632Z",
     "iopub.status.idle": "2023-05-16T06:17:09.971508Z",
     "shell.execute_reply": "2023-05-16T06:17:09.972061Z",
     "shell.execute_reply.started": "2023-05-15T13:24:23.170904Z"
    },
    "papermill": {
     "duration": 5.661564,
     "end_time": "2023-05-16T06:17:09.972308",
     "exception": false,
     "start_time": "2023-05-16T06:17:04.310744",
     "status": "completed"
    },
    "tags": []
   },
   "outputs": [
    {
     "name": "stdout",
     "output_type": "stream",
     "text": [
      "2285/2285 [==============================] - 3s 1ms/step\n",
      "1126/1126 [==============================] - 1s 1ms/step\n"
     ]
    }
   ],
   "source": [
    "# Predictions\n",
    "y_train_preds_dense = model.predict(X_train,verbose = 1)\n",
    "y_valid_preds_dense = model.predict(X_valid,verbose = 1)"
   ]
  },
  {
   "cell_type": "code",
   "execution_count": 29,
   "id": "626a94e2",
   "metadata": {
    "execution": {
     "iopub.execute_input": "2023-05-16T06:17:10.931168Z",
     "iopub.status.busy": "2023-05-16T06:17:10.930380Z",
     "iopub.status.idle": "2023-05-16T06:17:10.933649Z",
     "shell.execute_reply": "2023-05-16T06:17:10.932895Z",
     "shell.execute_reply.started": "2023-05-15T13:24:30.595685Z"
    },
    "papermill": {
     "duration": 0.526425,
     "end_time": "2023-05-16T06:17:10.933806",
     "exception": false,
     "start_time": "2023-05-16T06:17:10.407381",
     "status": "completed"
    },
    "tags": []
   },
   "outputs": [],
   "source": [
    "# Threshold Value\n",
    "thresh = (sum(y_train)/len(y_train))[0]"
   ]
  },
  {
   "cell_type": "code",
   "execution_count": 30,
   "id": "138bae1b",
   "metadata": {
    "execution": {
     "iopub.execute_input": "2023-05-16T06:17:11.800610Z",
     "iopub.status.busy": "2023-05-16T06:17:11.799894Z",
     "iopub.status.idle": "2023-05-16T06:17:11.910083Z",
     "shell.execute_reply": "2023-05-16T06:17:11.909344Z",
     "shell.execute_reply.started": "2023-05-15T13:24:30.684324Z"
    },
    "papermill": {
     "duration": 0.546616,
     "end_time": "2023-05-16T06:17:11.910260",
     "exception": false,
     "start_time": "2023-05-16T06:17:11.363644",
     "status": "completed"
    },
    "tags": []
   },
   "outputs": [
    {
     "name": "stdout",
     "output_type": "stream",
     "text": [
      "On Train Data\n",
      "AUC:0.996\n",
      "Accuracy:0.979\n",
      "Precision:0.964\n",
      " \n",
      "On Valid Data\n",
      "AUC:0.990\n",
      "Accuracy:0.970\n",
      "Precision:0.949\n",
      " \n"
     ]
    },
    {
     "data": {
      "text/plain": [
       "(0.9904784803821468, 0.9696969696969697, 0.9485714285714286)"
      ]
     },
     "execution_count": 30,
     "metadata": {},
     "output_type": "execute_result"
    }
   ],
   "source": [
    "# Accessing Evaluation Metrics Function\n",
    "print('On Train Data')\n",
    "print_report(y_train,y_train_preds_dense, thresh)\n",
    "print('On Valid Data')\n",
    "print_report(y_valid, y_valid_preds_dense, thresh)"
   ]
  },
  {
   "cell_type": "code",
   "execution_count": 31,
   "id": "ccbb502b",
   "metadata": {
    "execution": {
     "iopub.execute_input": "2023-05-16T06:17:12.777617Z",
     "iopub.status.busy": "2023-05-16T06:17:12.776855Z",
     "iopub.status.idle": "2023-05-16T06:17:13.238210Z",
     "shell.execute_reply": "2023-05-16T06:17:13.237480Z",
     "shell.execute_reply.started": "2023-05-15T13:27:10.195660Z"
    },
    "papermill": {
     "duration": 0.897392,
     "end_time": "2023-05-16T06:17:13.238366",
     "exception": false,
     "start_time": "2023-05-16T06:17:12.340974",
     "status": "completed"
    },
    "tags": []
   },
   "outputs": [
    {
     "data": {
      "text/plain": [
       "<AxesSubplot:title={'center':'Confusion Matrix'}, xlabel='Predicted label', ylabel='True label'>"
      ]
     },
     "execution_count": 31,
     "metadata": {},
     "output_type": "execute_result"
    },
    {
     "data": {
      "image/png": "[encoded data removed]",
      "text/plain": [
       "<Figure size 576x576 with 2 Axes>"
      ]
     },
     "metadata": {
      "needs_background": "light"
     },
     "output_type": "display_data"
    }
   ],
   "source": [
    "import scikitplot as skplt\n",
    "\n",
    "skplt.metrics.plot_confusion_matrix(y_valid, \n",
    "    y_valid_preds_dense.round(),\n",
    "    figsize=(8,8))"
   ]
  },
  {
   "cell_type": "code",
   "execution_count": 32,
   "id": "ea5c4d44",
   "metadata": {
    "execution": {
     "iopub.execute_input": "2023-05-16T06:17:14.115030Z",
     "iopub.status.busy": "2023-05-16T06:17:14.110091Z",
     "iopub.status.idle": "2023-05-16T06:17:14.372668Z",
     "shell.execute_reply": "2023-05-16T06:17:14.371941Z",
     "shell.execute_reply.started": "2023-05-15T13:28:34.617820Z"
    },
    "papermill": {
     "duration": 0.702927,
     "end_time": "2023-05-16T06:17:14.372822",
     "exception": false,
     "start_time": "2023-05-16T06:17:13.669895",
     "status": "completed"
    },
    "tags": []
   },
   "outputs": [
    {
     "data": {
      "image/png": "[encoded data removed]",
      "text/plain": [
       "<Figure size 432x288 with 1 Axes>"
      ]
     },
     "metadata": {
      "needs_background": "light"
     },
     "output_type": "display_data"
    }
   ],
   "source": [
    "from sklearn.metrics import roc_curve, roc_auc_score,confusion_matrix\n",
    "\n",
    "\n",
    "\n",
    "\n",
    "fpr_valid_dense, tpr_valid_dense, t_valid_dense = roc_curve(y_valid, y_valid_preds_dense)\n",
    "auc_valid_dense = roc_auc_score(y_valid, y_valid_preds_dense)\n",
    "plt.plot(fpr_valid_dense, tpr_valid_dense, 'r-', label = 'Dense AUC:%.3f'%auc_valid_dense)\n",
    "\n",
    "\n",
    "plt.plot([0,1],[0,1], 'k--')\n",
    "plt.xlabel('FPR')\n",
    "plt.ylabel('TPR')\n",
    "plt.legend(bbox_to_anchor = (1.04,1), loc = 'upper left')\n",
    "plt.title('Validation Set')\n",
    "plt.show()\n",
    "\n",
    "\n"
   ]
  },
  {
   "cell_type": "code",
   "execution_count": 33,
   "id": "b109fb0a",
   "metadata": {
    "execution": {
     "iopub.execute_input": "2023-05-16T06:17:15.243659Z",
     "iopub.status.busy": "2023-05-16T06:17:15.242884Z",
     "iopub.status.idle": "2023-05-16T06:17:15.515460Z",
     "shell.execute_reply": "2023-05-16T06:17:15.516034Z",
     "shell.execute_reply.started": "2023-05-15T13:28:44.327299Z"
    },
    "papermill": {
     "duration": 0.715159,
     "end_time": "2023-05-16T06:17:15.516237",
     "exception": false,
     "start_time": "2023-05-16T06:17:14.801078",
     "status": "completed"
    },
    "tags": []
   },
   "outputs": [
    {
     "data": {
      "image/png": "[encoded data removed]",
      "text/plain": [
       "<Figure size 432x288 with 1 Axes>"
      ]
     },
     "metadata": {
      "needs_background": "light"
     },
     "output_type": "display_data"
    }
   ],
   "source": [
    "from sklearn.metrics import roc_curve, roc_auc_score,confusion_matrix\n",
    "\n",
    "fpr_valid, tpr_valid, t_valid = roc_curve(y_train,y_train_preds_dense)\n",
    "auc_valid = roc_auc_score(y_valid, y_valid_preds_dense)\n",
    "plt.plot(fpr_valid, tpr_valid, 'g-', label = 'Dense AUC:%.3f'%auc_valid_dense)\n",
    "\n",
    "plt.plot(fpr_valid, tpr_valid, 'g-', label = 'CNN AUC:%.3f'%auc_valid)\n",
    "plt.plot([0,1],[0,1], 'k--')\n",
    "plt.xlabel('FPR')\n",
    "plt.ylabel('TPR')\n",
    "plt.legend(bbox_to_anchor = (1.04,1), loc = 'upper left')\n",
    "plt.title('Training Set')\n",
    "plt.show()\n"
   ]
  },
  {
   "cell_type": "markdown",
   "id": "3cfb4244",
   "metadata": {
    "papermill": {
     "duration": 0.441151,
     "end_time": "2023-05-16T06:17:16.388117",
     "exception": false,
     "start_time": "2023-05-16T06:17:15.946966",
     "status": "completed"
    },
    "tags": []
   },
   "source": [
    "# **so, DNN(Deep Neural Network) algorithmn have 96% accuracy, 99% AUC(Area Under Curve) and 94% Precision**"
   ]
  }
 ],
 "metadata": {
  "kernelspec": {
   "display_name": "Python 3",
   "language": "python",
   "name": "python3"
  },
  "language_info": {
   "codemirror_mode": {
    "name": "ipython",
    "version": 3
   },
   "file_extension": ".py",
   "mimetype": "text/x-python",
   "name": "python",
   "nbconvert_exporter": "python",
   "pygments_lexer": "ipython3",
   "version": "3.7.10"
  },
  "papermill": {
   "default_parameters": {},
   "duration": 120.951478,
   "end_time": "2023-05-16T06:17:20.077332",
   "environment_variables": {},
   "exception": null,
   "input_path": "__notebook__.ipynb",
   "output_path": "__notebook__.ipynb",
   "parameters": {},
   "start_time": "2023-05-16T06:15:19.125854",
   "version": "2.3.3"
  }
 },
 "nbformat": 4,
 "nbformat_minor": 5
}
