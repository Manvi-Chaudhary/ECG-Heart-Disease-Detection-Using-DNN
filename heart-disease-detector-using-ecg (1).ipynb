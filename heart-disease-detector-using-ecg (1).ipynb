{
 "cells": [
  {
   "cell_type": "code",
   "execution_count": 1,
   "id": "b867e62a",
   "metadata": {
    "execution": {
     "iopub.execute_input": "2022-11-26T09:24:52.168682Z",
     "iopub.status.busy": "2022-11-26T09:24:52.167655Z",
     "iopub.status.idle": "2022-11-26T09:24:59.889144Z",
     "shell.execute_reply": "2022-11-26T09:24:59.888295Z",
     "shell.execute_reply.started": "2022-11-26T09:18:23.857081Z"
    },
    "papermill": {
     "duration": 7.764341,
     "end_time": "2022-11-26T09:24:59.889341",
     "exception": false,
     "start_time": "2022-11-26T09:24:52.125000",
     "status": "completed"
    },
    "tags": []
   },
   "outputs": [],
   "source": [
    "# Importing Required Packages\n",
    "import pandas as pd\n",
    "import numpy as np\n",
    "import matplotlib.pyplot as plt\n",
    "from keras.layers import Conv1D\n",
    "import wfdb                            # Package for loading the ecg and annotation\n",
    "from sklearn.model_selection import train_test_split\n",
    "from keras.models import Sequential\n",
    "from keras.layers import Dense, Flatten, Dropout\n",
    "from tensorflow.keras.utils import to_categorical\n",
    "from sklearn.metrics import roc_auc_score, accuracy_score, precision_score, recall_score\n",
    "import warnings\n",
    "warnings.filterwarnings(\"ignore\") \n",
    "import random\n",
    "from keras.layers import Bidirectional, LSTM\n",
    "# Random Initialization\n",
    "random.seed(42)"
   ]
  },
  {
   "cell_type": "markdown",
   "id": "033adfab",
   "metadata": {
    "papermill": {
     "duration": 0.024564,
     "end_time": "2022-11-26T09:24:59.940427",
     "exception": false,
     "start_time": "2022-11-26T09:24:59.915863",
     "status": "completed"
    },
    "tags": []
   },
   "source": [
    "# **Importing Data**"
   ]
  },
  {
   "cell_type": "code",
   "execution_count": 2,
   "id": "70638920",
   "metadata": {
    "execution": {
     "iopub.execute_input": "2022-11-26T09:24:59.994296Z",
     "iopub.status.busy": "2022-11-26T09:24:59.992909Z",
     "iopub.status.idle": "2022-11-26T09:24:59.996429Z",
     "shell.execute_reply": "2022-11-26T09:24:59.997009Z",
     "shell.execute_reply.started": "2022-11-26T09:18:30.904709Z"
    },
    "papermill": {
     "duration": 0.032146,
     "end_time": "2022-11-26T09:24:59.997203",
     "exception": false,
     "start_time": "2022-11-26T09:24:59.965057",
     "status": "completed"
    },
    "tags": []
   },
   "outputs": [],
   "source": [
    "# Importing Data\n",
    "data = '../input/mit-bih-arrhythmia-database/'"
   ]
  },
  {
   "cell_type": "code",
   "execution_count": 3,
   "id": "050559c3",
   "metadata": {
    "execution": {
     "iopub.execute_input": "2022-11-26T09:25:00.053160Z",
     "iopub.status.busy": "2022-11-26T09:25:00.052405Z",
     "iopub.status.idle": "2022-11-26T09:25:00.054245Z",
     "shell.execute_reply": "2022-11-26T09:25:00.054797Z",
     "shell.execute_reply.started": "2022-11-26T09:18:34.174776Z"
    },
    "papermill": {
     "duration": 0.033396,
     "end_time": "2022-11-26T09:25:00.054974",
     "exception": false,
     "start_time": "2022-11-26T09:25:00.021578",
     "status": "completed"
    },
    "tags": []
   },
   "outputs": [],
   "source": [
    "# List of Patients\n",
    "patients = ['100','101','102','103','104','105','106','107',\n",
    "           '108','109','111','112','113','114','115','116',\n",
    "           '117','118','119','121','122','123','124','200',\n",
    "           '201','202','203','205','207','208','209','210',\n",
    "           '212','213','214','215','217','219','220','221',\n",
    "           '222','223','228','230','231','232','233','234']"
   ]
  },
  {
   "cell_type": "markdown",
   "id": "cbc51ef2",
   "metadata": {
    "papermill": {
     "duration": 0.024934,
     "end_time": "2022-11-26T09:25:00.105588",
     "exception": false,
     "start_time": "2022-11-26T09:25:00.080654",
     "status": "completed"
    },
    "tags": []
   },
   "source": [
    "#  **Analysing Data**"
   ]
  },
  {
   "cell_type": "code",
   "execution_count": 4,
   "id": "51fe33b9",
   "metadata": {
    "execution": {
     "iopub.execute_input": "2022-11-26T09:25:00.162792Z",
     "iopub.status.busy": "2022-11-26T09:25:00.158656Z",
     "iopub.status.idle": "2022-11-26T09:25:02.482531Z",
     "shell.execute_reply": "2022-11-26T09:25:02.481967Z",
     "shell.execute_reply.started": "2022-11-26T09:18:46.583579Z"
    },
    "papermill": {
     "duration": 2.351905,
     "end_time": "2022-11-26T09:25:02.482690",
     "exception": false,
     "start_time": "2022-11-26T09:25:00.130785",
     "status": "completed"
    },
    "tags": []
   },
   "outputs": [],
   "source": [
    "# Creating a Empty Dataframe\n",
    "symbols_df = pd.DataFrame()\n",
    "\n",
    "\n",
    "for pts in patients:\n",
    "    file = data + pts\n",
    "    annotation = wfdb.rdann(file, 'atr')\n",
    "    sym = annotation.symbol\n",
    "    values, counts = np.unique(sym, return_counts=True)\n",
    "    df_sub = pd.DataFrame({'symbol':values, 'Counts':counts, 'Patient Number':[pts]*len(counts)})\n",
    "    symbols_df = pd.concat([symbols_df, df_sub],axis = 0)"
   ]
  },
  {
   "cell_type": "code",
   "execution_count": 5,
   "id": "66b661d9",
   "metadata": {
    "execution": {
     "iopub.execute_input": "2022-11-26T09:25:02.542560Z",
     "iopub.status.busy": "2022-11-26T09:25:02.541797Z",
     "iopub.status.idle": "2022-11-26T09:25:02.557551Z",
     "shell.execute_reply": "2022-11-26T09:25:02.556984Z",
     "shell.execute_reply.started": "2022-11-26T09:18:56.212254Z"
    },
    "papermill": {
     "duration": 0.048247,
     "end_time": "2022-11-26T09:25:02.557700",
     "exception": false,
     "start_time": "2022-11-26T09:25:02.509453",
     "status": "completed"
    },
    "scrolled": true,
    "tags": []
   },
   "outputs": [
    {
     "data": {
      "text/html": [
       "<div>\n",
       "<style scoped>\n",
       "    .dataframe tbody tr th:only-of-type {\n",
       "        vertical-align: middle;\n",
       "    }\n",
       "\n",
       "    .dataframe tbody tr th {\n",
       "        vertical-align: top;\n",
       "    }\n",
       "\n",
       "    .dataframe thead th {\n",
       "        text-align: right;\n",
       "    }\n",
       "</style>\n",
       "<table border=\"1\" class=\"dataframe\">\n",
       "  <thead>\n",
       "    <tr style=\"text-align: right;\">\n",
       "      <th></th>\n",
       "      <th>symbol</th>\n",
       "      <th>Counts</th>\n",
       "      <th>Patient Number</th>\n",
       "    </tr>\n",
       "  </thead>\n",
       "  <tbody>\n",
       "    <tr>\n",
       "      <th>0</th>\n",
       "      <td>+</td>\n",
       "      <td>1</td>\n",
       "      <td>100</td>\n",
       "    </tr>\n",
       "    <tr>\n",
       "      <th>1</th>\n",
       "      <td>A</td>\n",
       "      <td>33</td>\n",
       "      <td>100</td>\n",
       "    </tr>\n",
       "    <tr>\n",
       "      <th>2</th>\n",
       "      <td>N</td>\n",
       "      <td>2239</td>\n",
       "      <td>100</td>\n",
       "    </tr>\n",
       "    <tr>\n",
       "      <th>3</th>\n",
       "      <td>V</td>\n",
       "      <td>1</td>\n",
       "      <td>100</td>\n",
       "    </tr>\n",
       "    <tr>\n",
       "      <th>0</th>\n",
       "      <td>+</td>\n",
       "      <td>1</td>\n",
       "      <td>101</td>\n",
       "    </tr>\n",
       "    <tr>\n",
       "      <th>...</th>\n",
       "      <td>...</td>\n",
       "      <td>...</td>\n",
       "      <td>...</td>\n",
       "    </tr>\n",
       "    <tr>\n",
       "      <th>0</th>\n",
       "      <td>+</td>\n",
       "      <td>3</td>\n",
       "      <td>234</td>\n",
       "    </tr>\n",
       "    <tr>\n",
       "      <th>1</th>\n",
       "      <td>J</td>\n",
       "      <td>50</td>\n",
       "      <td>234</td>\n",
       "    </tr>\n",
       "    <tr>\n",
       "      <th>2</th>\n",
       "      <td>N</td>\n",
       "      <td>2700</td>\n",
       "      <td>234</td>\n",
       "    </tr>\n",
       "    <tr>\n",
       "      <th>3</th>\n",
       "      <td>V</td>\n",
       "      <td>3</td>\n",
       "      <td>234</td>\n",
       "    </tr>\n",
       "    <tr>\n",
       "      <th>4</th>\n",
       "      <td>~</td>\n",
       "      <td>8</td>\n",
       "      <td>234</td>\n",
       "    </tr>\n",
       "  </tbody>\n",
       "</table>\n",
       "<p>283 rows × 3 columns</p>\n",
       "</div>"
      ],
      "text/plain": [
       "   symbol  Counts Patient Number\n",
       "0       +       1            100\n",
       "1       A      33            100\n",
       "2       N    2239            100\n",
       "3       V       1            100\n",
       "0       +       1            101\n",
       "..    ...     ...            ...\n",
       "0       +       3            234\n",
       "1       J      50            234\n",
       "2       N    2700            234\n",
       "3       V       3            234\n",
       "4       ~       8            234\n",
       "\n",
       "[283 rows x 3 columns]"
      ]
     },
     "execution_count": 5,
     "metadata": {},
     "output_type": "execute_result"
    }
   ],
   "source": [
    "# Symbols Dataframe\n",
    "symbols_df"
   ]
  },
  {
   "cell_type": "code",
   "execution_count": 6,
   "id": "5a891003",
   "metadata": {
    "execution": {
     "iopub.execute_input": "2022-11-26T09:25:02.617101Z",
     "iopub.status.busy": "2022-11-26T09:25:02.616306Z",
     "iopub.status.idle": "2022-11-26T09:25:02.627154Z",
     "shell.execute_reply": "2022-11-26T09:25:02.626509Z",
     "shell.execute_reply.started": "2022-11-26T09:19:08.163592Z"
    },
    "papermill": {
     "duration": 0.043398,
     "end_time": "2022-11-26T09:25:02.627308",
     "exception": false,
     "start_time": "2022-11-26T09:25:02.583910",
     "status": "completed"
    },
    "tags": []
   },
   "outputs": [
    {
     "data": {
      "text/plain": [
       "symbol\n",
       "N    75052\n",
       "L     8075\n",
       "R     7259\n",
       "V     7130\n",
       "/     7028\n",
       "A     2546\n",
       "+     1291\n",
       "f      982\n",
       "F      803\n",
       "~      616\n",
       "!      472\n",
       "\"      437\n",
       "j      229\n",
       "x      193\n",
       "a      150\n",
       "|      132\n",
       "E      106\n",
       "J       83\n",
       "Q       33\n",
       "e       16\n",
       "[        6\n",
       "]        6\n",
       "S        2\n",
       "Name: Counts, dtype: int64"
      ]
     },
     "execution_count": 6,
     "metadata": {},
     "output_type": "execute_result"
    }
   ],
   "source": [
    "# Value Counts of Different symbols in data\n",
    "symbols_df.groupby('symbol').Counts.sum().sort_values(ascending = False)"
   ]
  },
  {
   "cell_type": "markdown",
   "id": "2c436ed1",
   "metadata": {
    "papermill": {
     "duration": 0.027259,
     "end_time": "2022-11-26T09:25:02.680887",
     "exception": false,
     "start_time": "2022-11-26T09:25:02.653628",
     "status": "completed"
    },
    "tags": []
   },
   "source": [
    "# **Data Transformation**"
   ]
  },
  {
   "cell_type": "code",
   "execution_count": 7,
   "id": "af721f3f",
   "metadata": {
    "execution": {
     "iopub.execute_input": "2022-11-26T09:25:02.738220Z",
     "iopub.status.busy": "2022-11-26T09:25:02.737455Z",
     "iopub.status.idle": "2022-11-26T09:25:02.742511Z",
     "shell.execute_reply": "2022-11-26T09:25:02.743101Z",
     "shell.execute_reply.started": "2022-11-26T09:19:19.317183Z"
    },
    "papermill": {
     "duration": 0.035959,
     "end_time": "2022-11-26T09:25:02.743292",
     "exception": false,
     "start_time": "2022-11-26T09:25:02.707333",
     "status": "completed"
    },
    "tags": []
   },
   "outputs": [],
   "source": [
    "# Non Beat Symbols\n",
    "nonbeat = ['[','!',']','x','(',')','p','t','u','`',\n",
    "           '\\'','^','|','~','+','s','T','*','D','=','\"','@','Q','?']\n",
    "\n",
    "# Abnormal Beat Symbols\n",
    "abnormal = ['L','R','V','/','A','f','F','j','a','E','J','e','S']\n",
    "\n",
    "# Normal Beat Symbols\n",
    "normal = ['N']"
   ]
  },
  {
   "cell_type": "code",
   "execution_count": 8,
   "id": "d4b5dd81",
   "metadata": {
    "execution": {
     "iopub.execute_input": "2022-11-26T09:25:02.799964Z",
     "iopub.status.busy": "2022-11-26T09:25:02.799188Z",
     "iopub.status.idle": "2022-11-26T09:25:02.805916Z",
     "shell.execute_reply": "2022-11-26T09:25:02.806744Z",
     "shell.execute_reply.started": "2022-11-26T09:19:22.293539Z"
    },
    "papermill": {
     "duration": 0.037939,
     "end_time": "2022-11-26T09:25:02.806957",
     "exception": false,
     "start_time": "2022-11-26T09:25:02.769018",
     "status": "completed"
    },
    "tags": []
   },
   "outputs": [],
   "source": [
    "# Classifying normal, abnormal or nonbeat\n",
    "symbols_df['category'] = -1\n",
    "symbols_df.loc[symbols_df.symbol == 'N','category'] = 0\n",
    "symbols_df.loc[symbols_df.symbol.isin(abnormal), 'category'] = 1"
   ]
  },
  {
   "cell_type": "code",
   "execution_count": 9,
   "id": "1ca2f7b1",
   "metadata": {
    "execution": {
     "iopub.execute_input": "2022-11-26T09:25:02.862049Z",
     "iopub.status.busy": "2022-11-26T09:25:02.861292Z",
     "iopub.status.idle": "2022-11-26T09:25:02.868887Z",
     "shell.execute_reply": "2022-11-26T09:25:02.869522Z",
     "shell.execute_reply.started": "2022-11-26T09:19:28.444836Z"
    },
    "papermill": {
     "duration": 0.037577,
     "end_time": "2022-11-26T09:25:02.869787",
     "exception": false,
     "start_time": "2022-11-26T09:25:02.832210",
     "status": "completed"
    },
    "tags": []
   },
   "outputs": [
    {
     "data": {
      "text/plain": [
       "category\n",
       "-1     3186\n",
       " 0    75052\n",
       " 1    34409\n",
       "Name: Counts, dtype: int64"
      ]
     },
     "execution_count": 9,
     "metadata": {},
     "output_type": "execute_result"
    }
   ],
   "source": [
    "# Value counts of different categories\n",
    "symbols_df.groupby('category').Counts.sum()"
   ]
  },
  {
   "cell_type": "code",
   "execution_count": 10,
   "id": "6ed3ac52",
   "metadata": {
    "execution": {
     "iopub.execute_input": "2022-11-26T09:25:02.924427Z",
     "iopub.status.busy": "2022-11-26T09:25:02.923768Z",
     "iopub.status.idle": "2022-11-26T09:25:02.928813Z",
     "shell.execute_reply": "2022-11-26T09:25:02.929312Z",
     "shell.execute_reply.started": "2022-11-26T09:19:31.185546Z"
    },
    "papermill": {
     "duration": 0.033898,
     "end_time": "2022-11-26T09:25:02.929506",
     "exception": false,
     "start_time": "2022-11-26T09:25:02.895608",
     "status": "completed"
    },
    "tags": []
   },
   "outputs": [],
   "source": [
    "def load_ecg(file):    \n",
    "    \n",
    "    record = wfdb.rdrecord(file)\n",
    "    annotation = wfdb.rdann(file, 'atr')\n",
    "    p_signal = record.p_signal\n",
    "    atr_sym = annotation.symbol\n",
    "    atr_sample = annotation.sample\n",
    "    \n",
    "    return p_signal, atr_sym, atr_sample"
   ]
  },
  {
   "cell_type": "code",
   "execution_count": 11,
   "id": "79936092",
   "metadata": {
    "execution": {
     "iopub.execute_input": "2022-11-26T09:25:02.986608Z",
     "iopub.status.busy": "2022-11-26T09:25:02.985604Z",
     "iopub.status.idle": "2022-11-26T09:25:02.987869Z",
     "shell.execute_reply": "2022-11-26T09:25:02.988451Z",
     "shell.execute_reply.started": "2022-11-26T09:19:42.094799Z"
    },
    "papermill": {
     "duration": 0.033673,
     "end_time": "2022-11-26T09:25:02.988630",
     "exception": false,
     "start_time": "2022-11-26T09:25:02.954957",
     "status": "completed"
    },
    "tags": []
   },
   "outputs": [],
   "source": [
    "# Accessing the ecg points for \n",
    "file = data + patients[8]"
   ]
  },
  {
   "cell_type": "code",
   "execution_count": 12,
   "id": "65232913",
   "metadata": {
    "execution": {
     "iopub.execute_input": "2022-11-26T09:25:03.048859Z",
     "iopub.status.busy": "2022-11-26T09:25:03.048126Z",
     "iopub.status.idle": "2022-11-26T09:25:03.166442Z",
     "shell.execute_reply": "2022-11-26T09:25:03.166984Z",
     "shell.execute_reply.started": "2022-11-26T09:19:47.676566Z"
    },
    "papermill": {
     "duration": 0.147437,
     "end_time": "2022-11-26T09:25:03.167186",
     "exception": false,
     "start_time": "2022-11-26T09:25:03.019749",
     "status": "completed"
    },
    "tags": []
   },
   "outputs": [],
   "source": [
    "# Accessing the load ECG function and getting annotation.symbol, annotation.sample, signals\n",
    "p_signal, atr_sym, atr_sample = load_ecg(file)"
   ]
  },
  {
   "cell_type": "code",
   "execution_count": 13,
   "id": "ab287218",
   "metadata": {
    "execution": {
     "iopub.execute_input": "2022-11-26T09:25:03.228416Z",
     "iopub.status.busy": "2022-11-26T09:25:03.227686Z",
     "iopub.status.idle": "2022-11-26T09:25:03.233081Z",
     "shell.execute_reply": "2022-11-26T09:25:03.233941Z",
     "shell.execute_reply.started": "2022-11-26T09:19:50.002710Z"
    },
    "papermill": {
     "duration": 0.040196,
     "end_time": "2022-11-26T09:25:03.234193",
     "exception": false,
     "start_time": "2022-11-26T09:25:03.193997",
     "status": "completed"
    },
    "tags": []
   },
   "outputs": [
    {
     "name": "stdout",
     "output_type": "stream",
     "text": [
      "+ 3\n",
      "J 50\n",
      "N 2700\n",
      "V 3\n",
      "~ 8\n"
     ]
    }
   ],
   "source": [
    "# Analysing annotations value counts for a single record\n",
    "values, counts = np.unique(sym, return_counts=True)\n",
    "for v,c in zip(values, counts):\n",
    "    print(v,c)"
   ]
  },
  {
   "cell_type": "markdown",
   "id": "58e97eb5",
   "metadata": {
    "papermill": {
     "duration": 0.02538,
     "end_time": "2022-11-26T09:25:03.288155",
     "exception": false,
     "start_time": "2022-11-26T09:25:03.262775",
     "status": "completed"
    },
    "tags": []
   },
   "source": [
    "> # **Data Visualization**"
   ]
  },
  {
   "cell_type": "code",
   "execution_count": 14,
   "id": "ea03cbd0",
   "metadata": {
    "execution": {
     "iopub.execute_input": "2022-11-26T09:25:03.346193Z",
     "iopub.status.busy": "2022-11-26T09:25:03.345147Z",
     "iopub.status.idle": "2022-11-26T09:25:03.352435Z",
     "shell.execute_reply": "2022-11-26T09:25:03.353022Z",
     "shell.execute_reply.started": "2022-11-26T09:19:59.044323Z"
    },
    "papermill": {
     "duration": 0.038435,
     "end_time": "2022-11-26T09:25:03.353205",
     "exception": false,
     "start_time": "2022-11-26T09:25:03.314770",
     "status": "completed"
    },
    "tags": []
   },
   "outputs": [
    {
     "data": {
      "text/plain": [
       "[4105, 10876, 83824, 107330, 180041, 180621, 193553, 205731, 221206, 263192]"
      ]
     },
     "execution_count": 14,
     "metadata": {},
     "output_type": "execute_result"
    }
   ],
   "source": [
    "# get abnormal beat index\n",
    "ab_index = [b for a,b in zip(atr_sym,atr_sample) if a in abnormal][:10]\n",
    "ab_index"
   ]
  },
  {
   "cell_type": "code",
   "execution_count": 15,
   "id": "4f0586e5",
   "metadata": {
    "execution": {
     "iopub.execute_input": "2022-11-26T09:25:03.409510Z",
     "iopub.status.busy": "2022-11-26T09:25:03.408516Z",
     "iopub.status.idle": "2022-11-26T09:25:03.968407Z",
     "shell.execute_reply": "2022-11-26T09:25:03.968945Z",
     "shell.execute_reply.started": "2022-11-26T09:20:01.687075Z"
    },
    "papermill": {
     "duration": 0.589977,
     "end_time": "2022-11-26T09:25:03.969132",
     "exception": false,
     "start_time": "2022-11-26T09:25:03.379155",
     "status": "completed"
    },
    "tags": []
   },
   "outputs": [
    {
     "data": {
      "image/png": "[encoded data removed]",
      "text/plain": [
       "<Figure size 1440x576 with 1 Axes>"
      ]
     },
     "metadata": {
      "needs_background": "light"
     },
     "output_type": "display_data"
    }
   ],
   "source": [
    "# Generating evenly spaced values\n",
    "x = np.arange(len(p_signal))\n",
    "\n",
    "left = ab_index[5]-20000\n",
    "right = ab_index[5]+20000\n",
    "\n",
    "plt.figure(figsize=(20,8))\n",
    "plt.plot(x[left:right],p_signal[left:right,0],'-',label='ecg',)\n",
    "plt.plot(x[atr_sample],p_signal[atr_sample,0],'go',label ='normal')\n",
    "plt.plot(x[ab_index],p_signal[ab_index,0],'ro',label='abnormal')\n",
    "\n",
    "plt.xlim(left,right)\n",
    "plt.ylim(p_signal[left:right].min()-0.05,p_signal[left:right,0].max()+0.05)\n",
    "plt.xlabel('time index')\n",
    "plt.ylabel('ECG signal')\n",
    "plt.legend(bbox_to_anchor = (1.04,1), loc = 'upper left')\n",
    "plt.show()"
   ]
  },
  {
   "cell_type": "markdown",
   "id": "c35175a6",
   "metadata": {
    "papermill": {
     "duration": 0.029681,
     "end_time": "2022-11-26T09:25:04.028120",
     "exception": false,
     "start_time": "2022-11-26T09:25:03.998439",
     "status": "completed"
    },
    "tags": []
   },
   "source": [
    "# **Data Preprocessing**"
   ]
  },
  {
   "cell_type": "code",
   "execution_count": 16,
   "id": "06756610",
   "metadata": {
    "execution": {
     "iopub.execute_input": "2022-11-26T09:25:04.090358Z",
     "iopub.status.busy": "2022-11-26T09:25:04.089597Z",
     "iopub.status.idle": "2022-11-26T09:25:04.098021Z",
     "shell.execute_reply": "2022-11-26T09:25:04.098583Z",
     "shell.execute_reply.started": "2022-11-26T09:20:10.713902Z"
    },
    "papermill": {
     "duration": 0.041314,
     "end_time": "2022-11-26T09:25:04.098829",
     "exception": false,
     "start_time": "2022-11-26T09:25:04.057515",
     "status": "completed"
    },
    "tags": []
   },
   "outputs": [],
   "source": [
    "def make_dataset(pts, num_sec, fs, abnormal):\n",
    "    # function for making dataset ignoring non-beats\n",
    "    \n",
    "    num_cols = 2*num_sec * fs\n",
    "    X_all = np.zeros((1,num_cols))\n",
    "    Y_all = np.zeros((1,1))\n",
    "    sym_all = []\n",
    "    \n",
    "    # list to keep track of number of beats across patients\n",
    "    max_rows = []\n",
    "    \n",
    "    for pt in pts:\n",
    "        file = data + pt\n",
    "        \n",
    "        p_signal, atr_sym, atr_sample = load_ecg(file)\n",
    "        \n",
    "       \n",
    "        p_signal = p_signal[:,0]\n",
    "        \n",
    "        \n",
    "        df_ann = pd.DataFrame({'atr_sym':atr_sym,\n",
    "                              'atr_sample':atr_sample})\n",
    "        df_ann = df_ann.loc[df_ann.atr_sym.isin(abnormal + ['N'])]\n",
    "        \n",
    "        X,Y,sym = build_XY(p_signal,df_ann, num_cols, abnormal)\n",
    "        sym_all = sym_all+sym\n",
    "        max_rows.append(X.shape[0])\n",
    "        X_all = np.append(X_all,X,axis = 0)\n",
    "        Y_all = np.append(Y_all,Y,axis = 0)\n",
    "        \n",
    "    \n",
    "    X_all = X_all[1:,:]\n",
    "    Y_all = Y_all[1:,:]\n",
    "\n",
    "    return X_all, Y_all, sym_all\n"
   ]
  },
  {
   "cell_type": "code",
   "execution_count": 17,
   "id": "ac0394b9",
   "metadata": {
    "execution": {
     "iopub.execute_input": "2022-11-26T09:25:04.162153Z",
     "iopub.status.busy": "2022-11-26T09:25:04.161429Z",
     "iopub.status.idle": "2022-11-26T09:25:04.169798Z",
     "shell.execute_reply": "2022-11-26T09:25:04.169220Z",
     "shell.execute_reply.started": "2022-11-26T09:20:22.607541Z"
    },
    "papermill": {
     "duration": 0.040544,
     "end_time": "2022-11-26T09:25:04.169956",
     "exception": false,
     "start_time": "2022-11-26T09:25:04.129412",
     "status": "completed"
    },
    "tags": []
   },
   "outputs": [],
   "source": [
    "def build_XY(p_signal, df_ann, num_cols, abnormal):\n",
    "    # this function builds the X,Y matrices for each beat\n",
    "    # it also returns the original symbols for Y\n",
    "    \n",
    "    num_rows = len(df_ann)\n",
    "\n",
    "    X = np.zeros((num_rows, num_cols))\n",
    "    Y = np.zeros((num_rows,1))\n",
    "    sym = []\n",
    "    \n",
    "    # keep track of rows\n",
    "    max_row = 0\n",
    "\n",
    "    for atr_sample, atr_sym in zip(df_ann.atr_sample.values,df_ann.atr_sym.values):\n",
    "\n",
    "        left = max([0,(atr_sample - num_sec*fs) ])\n",
    "        right = min([len(p_signal),(atr_sample + num_sec*fs) ])\n",
    "        x = p_signal[left: right]\n",
    "        if len(x) == num_cols:\n",
    "            X[max_row,:] = x\n",
    "            Y[max_row,:] = int(atr_sym in abnormal)\n",
    "            sym.append(atr_sym)\n",
    "            max_row += 1\n",
    "    X = X[:max_row,:]\n",
    "    Y = Y[:max_row,:]\n",
    "    return X,Y,sym"
   ]
  },
  {
   "cell_type": "code",
   "execution_count": 18,
   "id": "306d842b",
   "metadata": {
    "execution": {
     "iopub.execute_input": "2022-11-26T09:25:04.235681Z",
     "iopub.status.busy": "2022-11-26T09:25:04.235008Z",
     "iopub.status.idle": "2022-11-26T09:25:04.237886Z",
     "shell.execute_reply": "2022-11-26T09:25:04.237339Z",
     "shell.execute_reply.started": "2022-11-26T09:20:33.435903Z"
    },
    "papermill": {
     "duration": 0.037178,
     "end_time": "2022-11-26T09:25:04.238036",
     "exception": false,
     "start_time": "2022-11-26T09:25:04.200858",
     "status": "completed"
    },
    "tags": []
   },
   "outputs": [],
   "source": [
    "# Parameter Values\n",
    "num_sec = 3\n",
    "fs = 360"
   ]
  },
  {
   "cell_type": "code",
   "execution_count": 19,
   "id": "67e30773",
   "metadata": {
    "execution": {
     "iopub.execute_input": "2022-11-26T09:25:04.301780Z",
     "iopub.status.busy": "2022-11-26T09:25:04.300987Z",
     "iopub.status.idle": "2022-11-26T09:25:29.026496Z",
     "shell.execute_reply": "2022-11-26T09:25:29.027070Z",
     "shell.execute_reply.started": "2022-11-26T09:20:44.495034Z"
    },
    "papermill": {
     "duration": 24.758868,
     "end_time": "2022-11-26T09:25:29.027292",
     "exception": false,
     "start_time": "2022-11-26T09:25:04.268424",
     "status": "completed"
    },
    "tags": []
   },
   "outputs": [],
   "source": [
    "# Accessing the fuction and creating a dataset with ECG digital Points\n",
    "X_all, Y_all, sym_all = make_dataset(patients, num_sec, fs, abnormal)"
   ]
  },
  {
   "cell_type": "code",
   "execution_count": 20,
   "id": "50fa2eeb",
   "metadata": {
    "execution": {
     "iopub.execute_input": "2022-11-26T09:25:29.095837Z",
     "iopub.status.busy": "2022-11-26T09:25:29.092560Z",
     "iopub.status.idle": "2022-11-26T09:25:29.682178Z",
     "shell.execute_reply": "2022-11-26T09:25:29.681461Z",
     "shell.execute_reply.started": "2022-11-26T09:21:17.276890Z"
    },
    "papermill": {
     "duration": 0.624826,
     "end_time": "2022-11-26T09:25:29.682340",
     "exception": false,
     "start_time": "2022-11-26T09:25:29.057514",
     "status": "completed"
    },
    "tags": []
   },
   "outputs": [],
   "source": [
    "# Train Test Split\n",
    "X_train, X_valid, y_train, y_valid = train_test_split(X_all, Y_all, test_size=0.33, random_state=42)"
   ]
  },
  {
   "cell_type": "markdown",
   "id": "042731a9",
   "metadata": {
    "papermill": {
     "duration": 0.028739,
     "end_time": "2022-11-26T09:25:29.740393",
     "exception": false,
     "start_time": "2022-11-26T09:25:29.711654",
     "status": "completed"
    },
    "tags": []
   },
   "source": [
    "# **Training Model - DNN(Deep Neural Network)**"
   ]
  },
  {
   "cell_type": "code",
   "execution_count": 21,
   "id": "4dd49878",
   "metadata": {
    "execution": {
     "iopub.execute_input": "2022-11-26T09:25:29.805020Z",
     "iopub.status.busy": "2022-11-26T09:25:29.804159Z",
     "iopub.status.idle": "2022-11-26T09:25:29.925831Z",
     "shell.execute_reply": "2022-11-26T09:25:29.924890Z",
     "shell.execute_reply.started": "2022-11-26T09:21:21.368469Z"
    },
    "papermill": {
     "duration": 0.156445,
     "end_time": "2022-11-26T09:25:29.926041",
     "exception": false,
     "start_time": "2022-11-26T09:25:29.769596",
     "status": "completed"
    },
    "tags": []
   },
   "outputs": [
    {
     "name": "stderr",
     "output_type": "stream",
     "text": [
      "\n",
      "User settings:\n",
      "\n",
      "   KMP_AFFINITY=granularity=fine,verbose,compact,1,0\n",
      "   KMP_BLOCKTIME=0\n",
      "   KMP_DUPLICATE_LIB_OK=True\n",
      "   KMP_INIT_AT_FORK=FALSE\n",
      "   KMP_SETTINGS=1\n",
      "   KMP_WARNINGS=0\n",
      "\n",
      "Effective settings:\n",
      "\n",
      "   KMP_ABORT_DELAY=0\n",
      "   KMP_ADAPTIVE_LOCK_PROPS='1,1024'\n",
      "   KMP_ALIGN_ALLOC=64\n",
      "   KMP_ALL_THREADPRIVATE=128\n",
      "   KMP_ATOMIC_MODE=2\n",
      "   KMP_BLOCKTIME=0\n",
      "   KMP_CPUINFO_FILE: value is not defined\n",
      "   KMP_DETERMINISTIC_REDUCTION=false\n",
      "   KMP_DEVICE_THREAD_LIMIT=2147483647\n",
      "   KMP_DISP_NUM_BUFFERS=7\n",
      "   KMP_DUPLICATE_LIB_OK=true\n",
      "   KMP_ENABLE_TASK_THROTTLING=true\n",
      "   KMP_FORCE_REDUCTION: value is not defined\n",
      "   KMP_FOREIGN_THREADS_THREADPRIVATE=true\n",
      "   KMP_FORKJOIN_BARRIER='2,2'\n",
      "   KMP_FORKJOIN_BARRIER_PATTERN='hyper,hyper'\n",
      "   KMP_GTID_MODE=3\n",
      "   KMP_HANDLE_SIGNALS=false\n",
      "   KMP_HOT_TEAMS_MAX_LEVEL=1\n",
      "   KMP_HOT_TEAMS_MODE=0\n",
      "   KMP_INIT_AT_FORK=true\n",
      "   KMP_LIBRARY=throughput\n",
      "   KMP_LOCK_KIND=queuing\n",
      "   KMP_MALLOC_POOL_INCR=1M\n",
      "   KMP_NUM_LOCKS_IN_BLOCK=1\n",
      "   KMP_PLAIN_BARRIER='2,2'\n",
      "   KMP_PLAIN_BARRIER_PATTERN='hyper,hyper'\n",
      "   KMP_REDUCTION_BARRIER='1,1'\n",
      "   KMP_REDUCTION_BARRIER_PATTERN='hyper,hyper'\n",
      "   KMP_SCHEDULE='static,balanced;guided,iterative'\n",
      "   KMP_SETTINGS=true\n",
      "   KMP_SPIN_BACKOFF_PARAMS='4096,100'\n",
      "   KMP_STACKOFFSET=64\n",
      "   KMP_STACKPAD=0\n",
      "   KMP_STACKSIZE=8M\n",
      "   KMP_STORAGE_MAP=false\n",
      "   KMP_TASKING=2\n",
      "   KMP_TASKLOOP_MIN_TASKS=0\n",
      "   KMP_TASK_STEALING_CONSTRAINT=1\n",
      "   KMP_TEAMS_THREAD_LIMIT=4\n",
      "   KMP_TOPOLOGY_METHOD=all\n",
      "   KMP_USE_YIELD=1\n",
      "   KMP_VERSION=false\n",
      "   KMP_WARNINGS=false\n",
      "   OMP_AFFINITY_FORMAT='OMP: pid %P tid %i thread %n bound to OS proc set {%A}'\n",
      "   OMP_ALLOCATOR=omp_default_mem_alloc\n",
      "   OMP_CANCELLATION=false\n",
      "   OMP_DEFAULT_DEVICE=0\n",
      "   OMP_DISPLAY_AFFINITY=false\n",
      "   OMP_DISPLAY_ENV=false\n",
      "   OMP_DYNAMIC=false\n",
      "   OMP_MAX_ACTIVE_LEVELS=1\n",
      "   OMP_MAX_TASK_PRIORITY=0\n",
      "   OMP_NESTED: deprecated; max-active-levels-var=1\n",
      "   OMP_NUM_THREADS: value is not defined\n",
      "   OMP_PLACES: value is not defined\n",
      "   OMP_PROC_BIND='intel'\n",
      "   OMP_SCHEDULE='static'\n",
      "   OMP_STACKSIZE=8M\n",
      "   OMP_TARGET_OFFLOAD=DEFAULT\n",
      "   OMP_THREAD_LIMIT=2147483647\n",
      "   OMP_WAIT_POLICY=PASSIVE\n",
      "   KMP_AFFINITY='verbose,warnings,respect,granularity=fine,compact,1,0'\n",
      "\n",
      "2022-11-26 09:25:29.841524: I tensorflow/core/common_runtime/process_util.cc:146] Creating new thread pool with default inter op setting: 2. Tune using inter_op_parallelism_threads for best performance.\n"
     ]
    }
   ],
   "source": [
    "# Relu for activation function and drop out for regularization\n",
    "model = Sequential()\n",
    "model.add(Dense(32, activation = 'relu', input_dim = X_train.shape[1]))\n",
    "model.add(Dropout(rate = 0.25))\n",
    "model.add(Dense(1, activation = 'sigmoid'))"
   ]
  },
  {
   "cell_type": "code",
   "execution_count": 22,
   "id": "cbc20215",
   "metadata": {
    "execution": {
     "iopub.execute_input": "2022-11-26T09:25:29.994118Z",
     "iopub.status.busy": "2022-11-26T09:25:29.992997Z",
     "iopub.status.idle": "2022-11-26T09:25:30.005959Z",
     "shell.execute_reply": "2022-11-26T09:25:30.005259Z",
     "shell.execute_reply.started": "2022-11-26T09:21:28.955148Z"
    },
    "papermill": {
     "duration": 0.048639,
     "end_time": "2022-11-26T09:25:30.006118",
     "exception": false,
     "start_time": "2022-11-26T09:25:29.957479",
     "status": "completed"
    },
    "tags": []
   },
   "outputs": [],
   "source": [
    "# Compiling model with  binary crossentropy and the adam optimizer\n",
    "model.compile(loss = 'binary_crossentropy',\n",
    "                optimizer = 'adam',\n",
    "                metrics = ['accuracy'])"
   ]
  },
  {
   "cell_type": "code",
   "execution_count": 23,
   "id": "5a18be26",
   "metadata": {
    "execution": {
     "iopub.execute_input": "2022-11-26T09:25:30.071804Z",
     "iopub.status.busy": "2022-11-26T09:25:30.071030Z",
     "iopub.status.idle": "2022-11-26T09:26:27.441068Z",
     "shell.execute_reply": "2022-11-26T09:26:27.440372Z",
     "shell.execute_reply.started": "2022-11-26T09:21:32.893243Z"
    },
    "papermill": {
     "duration": 57.404554,
     "end_time": "2022-11-26T09:26:27.441235",
     "exception": false,
     "start_time": "2022-11-26T09:25:30.036681",
     "status": "completed"
    },
    "tags": []
   },
   "outputs": [
    {
     "name": "stderr",
     "output_type": "stream",
     "text": [
      "2022-11-26 09:25:31.171822: I tensorflow/compiler/mlir/mlir_graph_optimization_pass.cc:185] None of the MLIR Optimization Passes are enabled (registered 2)\n"
     ]
    },
    {
     "name": "stdout",
     "output_type": "stream",
     "text": [
      "Epoch 1/10\n",
      "2285/2285 [==============================] - 6s 2ms/step - loss: 0.2513 - accuracy: 0.9055\n",
      "Epoch 2/10\n",
      "2285/2285 [==============================] - 5s 2ms/step - loss: 0.1637 - accuracy: 0.9472\n",
      "Epoch 3/10\n",
      "2285/2285 [==============================] - 5s 2ms/step - loss: 0.1446 - accuracy: 0.9546\n",
      "Epoch 4/10\n",
      "2285/2285 [==============================] - 6s 3ms/step - loss: 0.1309 - accuracy: 0.9590\n",
      "Epoch 5/10\n",
      "2285/2285 [==============================] - 6s 2ms/step - loss: 0.1231 - accuracy: 0.9622\n",
      "Epoch 6/10\n",
      "2285/2285 [==============================] - 5s 2ms/step - loss: 0.1157 - accuracy: 0.9645\n",
      "Epoch 7/10\n",
      "2285/2285 [==============================] - 5s 2ms/step - loss: 0.1146 - accuracy: 0.9648\n",
      "Epoch 8/10\n",
      "2285/2285 [==============================] - 5s 2ms/step - loss: 0.1054 - accuracy: 0.9674\n",
      "Epoch 9/10\n",
      "2285/2285 [==============================] - 5s 2ms/step - loss: 0.1049 - accuracy: 0.9675\n",
      "Epoch 10/10\n",
      "2285/2285 [==============================] - 6s 3ms/step - loss: 0.1003 - accuracy: 0.9692\n"
     ]
    },
    {
     "data": {
      "text/plain": [
       "<keras.callbacks.History at 0x7f8092c81d50>"
      ]
     },
     "execution_count": 23,
     "metadata": {},
     "output_type": "execute_result"
    }
   ],
   "source": [
    "# Fitting the model\n",
    "model.fit(X_train, y_train, batch_size = 32, epochs= 10, verbose = 1)"
   ]
  },
  {
   "cell_type": "markdown",
   "id": "7e016b79",
   "metadata": {
    "papermill": {
     "duration": 0.343354,
     "end_time": "2022-11-26T09:26:28.130663",
     "exception": false,
     "start_time": "2022-11-26T09:26:27.787309",
     "status": "completed"
    },
    "tags": []
   },
   "source": [
    "# **Evaluation Metrices**\n",
    "\n"
   ]
  },
  {
   "cell_type": "code",
   "execution_count": 24,
   "id": "9ff5618a",
   "metadata": {
    "execution": {
     "iopub.execute_input": "2022-11-26T09:26:28.819678Z",
     "iopub.status.busy": "2022-11-26T09:26:28.818959Z",
     "iopub.status.idle": "2022-11-26T09:26:28.824073Z",
     "shell.execute_reply": "2022-11-26T09:26:28.824759Z",
     "shell.execute_reply.started": "2022-11-26T09:22:29.094820Z"
    },
    "papermill": {
     "duration": 0.34996,
     "end_time": "2022-11-26T09:26:28.824953",
     "exception": false,
     "start_time": "2022-11-26T09:26:28.474993",
     "status": "completed"
    },
    "tags": []
   },
   "outputs": [],
   "source": [
    "# Evaluation Metrics\n",
    "def print_report(y_actual, y_pred, thresh):\n",
    "    # Function to print evaluation metrics\n",
    "    auc = roc_auc_score(y_actual, y_pred)\n",
    "    accuracy = accuracy_score(y_actual, (y_pred > thresh))\n",
    "    precision = precision_score(y_actual, (y_pred > thresh))\n",
    "    print('AUC:%.3f'%auc)\n",
    "    print('Accuracy:%.3f'%accuracy)\n",
    "    print('Precision:%.3f'%precision)\n",
    "    print(' ')\n",
    "    return auc, accuracy, precision"
   ]
  },
  {
   "cell_type": "code",
   "execution_count": 25,
   "id": "76ecb129",
   "metadata": {
    "execution": {
     "iopub.execute_input": "2022-11-26T09:26:29.506563Z",
     "iopub.status.busy": "2022-11-26T09:26:29.505872Z",
     "iopub.status.idle": "2022-11-26T09:26:35.218530Z",
     "shell.execute_reply": "2022-11-26T09:26:35.217809Z",
     "shell.execute_reply.started": "2022-11-26T09:22:36.560437Z"
    },
    "papermill": {
     "duration": 6.051288,
     "end_time": "2022-11-26T09:26:35.218764",
     "exception": false,
     "start_time": "2022-11-26T09:26:29.167476",
     "status": "completed"
    },
    "tags": []
   },
   "outputs": [
    {
     "name": "stdout",
     "output_type": "stream",
     "text": [
      "2285/2285 [==============================] - 3s 1ms/step\n",
      "1126/1126 [==============================] - 1s 1ms/step\n"
     ]
    }
   ],
   "source": [
    "# Predictions\n",
    "y_train_preds_dense = model.predict(X_train,verbose = 1)\n",
    "y_valid_preds_dense = model.predict(X_valid,verbose = 1)"
   ]
  },
  {
   "cell_type": "code",
   "execution_count": 26,
   "id": "1b5a1bd7",
   "metadata": {
    "execution": {
     "iopub.execute_input": "2022-11-26T09:26:35.958298Z",
     "iopub.status.busy": "2022-11-26T09:26:35.957355Z",
     "iopub.status.idle": "2022-11-26T09:26:36.011448Z",
     "shell.execute_reply": "2022-11-26T09:26:36.012024Z",
     "shell.execute_reply.started": "2022-11-26T09:22:48.671580Z"
    },
    "papermill": {
     "duration": 0.418746,
     "end_time": "2022-11-26T09:26:36.012230",
     "exception": false,
     "start_time": "2022-11-26T09:26:35.593484",
     "status": "completed"
    },
    "tags": []
   },
   "outputs": [],
   "source": [
    "# Threshold Value\n",
    "thresh = (sum(y_train)/len(y_train))[0]"
   ]
  },
  {
   "cell_type": "code",
   "execution_count": 27,
   "id": "8842572a",
   "metadata": {
    "execution": {
     "iopub.execute_input": "2022-11-26T09:26:36.754375Z",
     "iopub.status.busy": "2022-11-26T09:26:36.753599Z",
     "iopub.status.idle": "2022-11-26T09:26:36.870932Z",
     "shell.execute_reply": "2022-11-26T09:26:36.871668Z",
     "shell.execute_reply.started": "2022-11-26T09:22:54.736457Z"
    },
    "papermill": {
     "duration": 0.488716,
     "end_time": "2022-11-26T09:26:36.871937",
     "exception": false,
     "start_time": "2022-11-26T09:26:36.383221",
     "status": "completed"
    },
    "tags": []
   },
   "outputs": [
    {
     "name": "stdout",
     "output_type": "stream",
     "text": [
      "On Train Data\n",
      "AUC:0.995\n",
      "Accuracy:0.970\n",
      "Precision:0.935\n",
      " \n",
      "On Valid Data\n",
      "AUC:0.990\n",
      "Accuracy:0.961\n",
      "Precision:0.916\n",
      " \n"
     ]
    },
    {
     "data": {
      "text/plain": [
       "(0.9899258599024189, 0.9606977196344749, 0.9163225752085615)"
      ]
     },
     "execution_count": 27,
     "metadata": {},
     "output_type": "execute_result"
    }
   ],
   "source": [
    "# Accessing Evaluation Metrics Function\n",
    "print('On Train Data')\n",
    "print_report(y_train, y_train_preds_dense, thresh)\n",
    "print('On Valid Data')\n",
    "print_report(y_valid, y_valid_preds_dense, thresh)"
   ]
  },
  {
   "cell_type": "code",
   "execution_count": 28,
   "id": "0c153f46",
   "metadata": {
    "execution": {
     "iopub.execute_input": "2022-11-26T09:26:37.614443Z",
     "iopub.status.busy": "2022-11-26T09:26:37.613683Z",
     "iopub.status.idle": "2022-11-26T09:26:37.804435Z",
     "shell.execute_reply": "2022-11-26T09:26:37.803757Z",
     "shell.execute_reply.started": "2022-11-26T09:23:16.896121Z"
    },
    "papermill": {
     "duration": 0.56871,
     "end_time": "2022-11-26T09:26:37.804583",
     "exception": false,
     "start_time": "2022-11-26T09:26:37.235873",
     "status": "completed"
    },
    "tags": []
   },
   "outputs": [
    {
     "data": {
      "image/png": "[encoded data removed]",
      "text/plain": [
       "<Figure size 432x288 with 1 Axes>"
      ]
     },
     "metadata": {
      "needs_background": "light"
     },
     "output_type": "display_data"
    }
   ],
   "source": [
    "from sklearn.metrics import roc_curve, roc_auc_score\n",
    "\n",
    "\n",
    "\n",
    "fpr_valid_dense, tpr_valid_dense, t_valid_dense = roc_curve(y_valid, y_valid_preds_dense)\n",
    "auc_valid_dense = roc_auc_score(y_valid, y_valid_preds_dense)\n",
    "plt.plot(fpr_valid_dense, tpr_valid_dense, 'r-', label = 'Dense AUC:%.3f'%auc_valid_dense)\n",
    "\n",
    "\n",
    "plt.plot([0,1],[0,1], 'k--')\n",
    "plt.xlabel('FPR')\n",
    "plt.ylabel('TPR')\n",
    "plt.legend(bbox_to_anchor = (1.04,1), loc = 'upper left')\n",
    "plt.title('Validation Set')\n",
    "plt.show()\n"
   ]
  },
  {
   "cell_type": "markdown",
   "id": "d4cbe104",
   "metadata": {
    "papermill": {
     "duration": 0.369012,
     "end_time": "2022-11-26T09:26:38.533794",
     "exception": false,
     "start_time": "2022-11-26T09:26:38.164782",
     "status": "completed"
    },
    "tags": []
   },
   "source": [
    "# **so, DNN(Deep Neural Network) algorithmn have 96% accuracy, 99% AUC(Area Under Curve) and 94% Precision**"
   ]
  }
 ],
 "metadata": {
  "kernelspec": {
   "display_name": "Python 3",
   "language": "python",
   "name": "python3"
  },
  "language_info": {
   "codemirror_mode": {
    "name": "ipython",
    "version": 3
   },
   "file_extension": ".py",
   "mimetype": "text/x-python",
   "name": "python",
   "nbconvert_exporter": "python",
   "pygments_lexer": "ipython3",
   "version": "3.7.10"
  },
  "papermill": {
   "default_parameters": {},
   "duration": 119.79569,
   "end_time": "2022-11-26T09:26:42.354135",
   "environment_variables": {},
   "exception": null,
   "input_path": "__notebook__.ipynb",
   "output_path": "__notebook__.ipynb",
   "parameters": {},
   "start_time": "2022-11-26T09:24:42.558445",
   "version": "2.3.3"
  }
 },
 "nbformat": 4,
 "nbformat_minor": 5
}
